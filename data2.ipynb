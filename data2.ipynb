{
 "cells": [
  {
   "cell_type": "code",
   "execution_count": 1,
   "metadata": {},
   "outputs": [],
   "source": [
    "import torch\n",
    "import tensorflow as tf\n",
    "import numpy as np"
   ]
  },
  {
   "cell_type": "code",
   "execution_count": 2,
   "metadata": {},
   "outputs": [
    {
     "data": {
      "text/plain": [
       "array([[25,  5,  3],\n",
       "       [ 2, 26,  7]])"
      ]
     },
     "execution_count": 2,
     "metadata": {},
     "output_type": "execute_result"
    }
   ],
   "source": [
    "x = np.array([[25, 2], [5, 26], [3, 7]])\n",
    "\n",
    "# 전치\n",
    "x.T"
   ]
  },
  {
   "cell_type": "code",
   "execution_count": 3,
   "metadata": {},
   "outputs": [
    {
     "data": {
      "text/plain": [
       "tensor([[25,  5,  3],\n",
       "        [ 2, 26,  7]])"
      ]
     },
     "execution_count": 3,
     "metadata": {},
     "output_type": "execute_result"
    }
   ],
   "source": [
    "# 파이토치 배열로 변환\n",
    "x_pt = torch.tensor([[25, 2], [5, 26], [3, 7]])\n",
    "\n",
    "# 파이토치 배열 전치\n",
    "x_pt.T"
   ]
  },
  {
   "cell_type": "code",
   "execution_count": 4,
   "metadata": {},
   "outputs": [
    {
     "data": {
      "text/plain": [
       "<tf.Tensor: shape=(2, 3), dtype=int32, numpy=\n",
       "array([[25,  5,  3],\n",
       "       [ 2, 26,  7]])>"
      ]
     },
     "execution_count": 4,
     "metadata": {},
     "output_type": "execute_result"
    }
   ],
   "source": [
    "# 텐서플로 배열로 변환\n",
    "import tensorflow as tf\n",
    "\n",
    "x_tf = tf.Variable([[25, 2], [5, 26], [3, 7]]) \n",
    "# tf.constant() 변경할 수 없는 상수 텐서를 만든다\n",
    "# tf.Variable() 변경할 수 있는 변수 텐서를 만든다\n",
    "\n",
    "x_tf = tf.transpose(x_tf)\n",
    "x_tf"
   ]
  },
  {
   "cell_type": "code",
   "execution_count": 5,
   "metadata": {},
   "outputs": [
    {
     "data": {
      "text/plain": [
       "array([[50,  4],\n",
       "       [10, 52],\n",
       "       [ 6, 14]])"
      ]
     },
     "execution_count": 5,
     "metadata": {},
     "output_type": "execute_result"
    }
   ],
   "source": [
    "x * 2"
   ]
  },
  {
   "cell_type": "code",
   "execution_count": 6,
   "metadata": {},
   "outputs": [
    {
     "data": {
      "text/plain": [
       "array([[52,  6],\n",
       "       [12, 54],\n",
       "       [ 8, 16]])"
      ]
     },
     "execution_count": 6,
     "metadata": {},
     "output_type": "execute_result"
    }
   ],
   "source": [
    "x *2 + 2"
   ]
  },
  {
   "cell_type": "code",
   "execution_count": 7,
   "metadata": {},
   "outputs": [
    {
     "data": {
      "text/plain": [
       "tensor([[53,  7],\n",
       "        [13, 55],\n",
       "        [ 9, 17]])"
      ]
     },
     "execution_count": 7,
     "metadata": {},
     "output_type": "execute_result"
    }
   ],
   "source": [
    "# 파이토치\n",
    "x_pt * 2 + 3"
   ]
  },
  {
   "cell_type": "code",
   "execution_count": 8,
   "metadata": {},
   "outputs": [
    {
     "data": {
      "text/plain": [
       "tensor([[53,  7],\n",
       "        [13, 55],\n",
       "        [ 9, 17]])"
      ]
     },
     "execution_count": 8,
     "metadata": {},
     "output_type": "execute_result"
    }
   ],
   "source": [
    "torch.add(torch.mul(x_pt, 2), 3)"
   ]
  },
  {
   "cell_type": "code",
   "execution_count": 9,
   "metadata": {},
   "outputs": [
    {
     "data": {
      "text/plain": [
       "<tf.Tensor: shape=(2, 3), dtype=int32, numpy=\n",
       "array([[53, 13,  9],\n",
       "       [ 7, 55, 17]])>"
      ]
     },
     "execution_count": 9,
     "metadata": {},
     "output_type": "execute_result"
    }
   ],
   "source": [
    "# 텐서플로\n",
    "x_tf * 2 + 3"
   ]
  },
  {
   "cell_type": "code",
   "execution_count": 10,
   "metadata": {},
   "outputs": [
    {
     "data": {
      "text/plain": [
       "<tf.Tensor: shape=(2, 3), dtype=int32, numpy=\n",
       "array([[53, 13,  9],\n",
       "       [ 7, 55, 17]])>"
      ]
     },
     "execution_count": 10,
     "metadata": {},
     "output_type": "execute_result"
    }
   ],
   "source": [
    "tf.add(tf.multiply(x_tf, 2), 3)"
   ]
  },
  {
   "cell_type": "code",
   "execution_count": 11,
   "metadata": {},
   "outputs": [
    {
     "data": {
      "text/plain": [
       "array([[675,   8],\n",
       "       [ 35, 728],\n",
       "       [ 15,  63]])"
      ]
     },
     "execution_count": 11,
     "metadata": {},
     "output_type": "execute_result"
    }
   ],
   "source": [
    "a = x + 2\n",
    "a * x"
   ]
  },
  {
   "cell_type": "code",
   "execution_count": 12,
   "metadata": {},
   "outputs": [
    {
     "data": {
      "text/plain": [
       "array([[25,  2],\n",
       "       [ 5, 26],\n",
       "       [ 3,  7]])"
      ]
     },
     "execution_count": 12,
     "metadata": {},
     "output_type": "execute_result"
    }
   ],
   "source": [
    "x"
   ]
  },
  {
   "cell_type": "code",
   "execution_count": 13,
   "metadata": {},
   "outputs": [
    {
     "data": {
      "text/plain": [
       "68"
      ]
     },
     "execution_count": 13,
     "metadata": {},
     "output_type": "execute_result"
    }
   ],
   "source": [
    "x.sum()"
   ]
  },
  {
   "cell_type": "code",
   "execution_count": 14,
   "metadata": {},
   "outputs": [
    {
     "data": {
      "text/plain": [
       "tensor(68)"
      ]
     },
     "execution_count": 14,
     "metadata": {},
     "output_type": "execute_result"
    }
   ],
   "source": [
    "torch.sum(x_pt)"
   ]
  },
  {
   "cell_type": "code",
   "execution_count": 15,
   "metadata": {},
   "outputs": [
    {
     "data": {
      "text/plain": [
       "<tf.Tensor: shape=(), dtype=int32, numpy=68>"
      ]
     },
     "execution_count": 15,
     "metadata": {},
     "output_type": "execute_result"
    }
   ],
   "source": [
    "tf.reduce_sum(x_tf)"
   ]
  },
  {
   "cell_type": "code",
   "execution_count": 16,
   "metadata": {},
   "outputs": [
    {
     "data": {
      "text/plain": [
       "array([33, 35])"
      ]
     },
     "execution_count": 16,
     "metadata": {},
     "output_type": "execute_result"
    }
   ],
   "source": [
    "x.sum(axis=0) # 열 계산"
   ]
  },
  {
   "cell_type": "code",
   "execution_count": 17,
   "metadata": {},
   "outputs": [
    {
     "data": {
      "text/plain": [
       "array([27, 31, 10])"
      ]
     },
     "execution_count": 17,
     "metadata": {},
     "output_type": "execute_result"
    }
   ],
   "source": [
    "x.sum(axis=1) # 행 계산"
   ]
  },
  {
   "cell_type": "code",
   "execution_count": 18,
   "metadata": {},
   "outputs": [
    {
     "data": {
      "text/plain": [
       "tensor([33, 35])"
      ]
     },
     "execution_count": 18,
     "metadata": {},
     "output_type": "execute_result"
    }
   ],
   "source": [
    "torch.sum(x_pt, dim=0)"
   ]
  },
  {
   "cell_type": "code",
   "execution_count": 19,
   "metadata": {},
   "outputs": [
    {
     "data": {
      "text/plain": [
       "<tf.Tensor: shape=(2,), dtype=int32, numpy=array([33, 35])>"
      ]
     },
     "execution_count": 19,
     "metadata": {},
     "output_type": "execute_result"
    }
   ],
   "source": [
    "tf.reduce_sum(x_tf, axis=1)"
   ]
  },
  {
   "cell_type": "markdown",
   "metadata": {},
   "source": [
    "sum 외에도 maximum, minumum, mean, product 계산도 가능하다."
   ]
  },
  {
   "cell_type": "code",
   "execution_count": 20,
   "metadata": {},
   "outputs": [],
   "source": [
    "# 내적\n",
    "# 내적은 두 벡터가 얼마나 같은 방향을 향하고 있는지 측정하는 값. \n",
    "# 벡터의 내적이 양수이면 두 벡터는 유사한 방향을, 0이면 직교(서로 수직), 음수이면 반대 방향을 가리킨다."
   ]
  },
  {
   "cell_type": "code",
   "execution_count": 21,
   "metadata": {},
   "outputs": [
    {
     "data": {
      "text/plain": [
       "12"
      ]
     },
     "execution_count": 21,
     "metadata": {},
     "output_type": "execute_result"
    }
   ],
   "source": [
    "# 내적을 계산하려면 두 벡터의 크기(차원)가 같아야 한다.\n",
    "X = np.array([25, 2, 5])\n",
    "y = np.array([0, 1, 2])\n",
    "\n",
    "np.dot(X, y)\n",
    "# 내적은 요소를 곱한 후 모두 더한다. 25*0 + 2*1 + 5*2 = 12"
   ]
  },
  {
   "cell_type": "code",
   "execution_count": 22,
   "metadata": {},
   "outputs": [
    {
     "data": {
      "text/plain": [
       "(tensor([25,  2,  5]),\n",
       " <tf.Variable 'Variable:0' shape=(3,) dtype=int32, numpy=array([25,  2,  5])>,\n",
       " tensor([0, 1, 2]),\n",
       " <tf.Variable 'Variable:0' shape=(3,) dtype=int32, numpy=array([0, 1, 2])>)"
      ]
     },
     "execution_count": 22,
     "metadata": {},
     "output_type": "execute_result"
    }
   ],
   "source": [
    "X_pt = torch.tensor([25, 2, 5])\n",
    "y_pt = torch.tensor([0, 1, 2])\n",
    "\n",
    "X_tf = tf.Variable([25, 2, 5])\n",
    "y_tf = tf.Variable([0, 1, 2])\n",
    "\n",
    "X_pt, X_tf, y_pt, y_tf"
   ]
  },
  {
   "cell_type": "code",
   "execution_count": 23,
   "metadata": {},
   "outputs": [
    {
     "data": {
      "text/plain": [
       "tensor(12.)"
      ]
     },
     "execution_count": 23,
     "metadata": {},
     "output_type": "execute_result"
    }
   ],
   "source": [
    "np.dot(X_pt, y_pt)\n",
    "\n",
    "torch.dot(X_pt, y_pt) # 훨씬 간단하게 계산, 직관적\n",
    "torch.dot(torch.tensor([25., 2., 5.]), torch.tensor([0., 1., 2.]))\n",
    "# torch.dot()은 두 벡터의 내적을 계산한다. 단 1차원 텐서만 사용할 수 있다."
   ]
  },
  {
   "cell_type": "code",
   "execution_count": 24,
   "metadata": {},
   "outputs": [
    {
     "data": {
      "text/plain": [
       "<tf.Tensor: shape=(), dtype=int32, numpy=12>"
      ]
     },
     "execution_count": 24,
     "metadata": {},
     "output_type": "execute_result"
    }
   ],
   "source": [
    "tf.tensordot(X_tf, y_tf, axes=1)"
   ]
  },
  {
   "cell_type": "code",
   "execution_count": 25,
   "metadata": {},
   "outputs": [
    {
     "data": {
      "text/plain": [
       "<tf.Tensor: shape=(), dtype=int32, numpy=12>"
      ]
     },
     "execution_count": 25,
     "metadata": {},
     "output_type": "execute_result"
    }
   ],
   "source": [
    "tf.reduce_sum(tf.multiply(X_tf, y_tf)) # 명시적으로 원소별 곱과 합을 표현할 때 유용하다."
   ]
  },
  {
   "cell_type": "code",
   "execution_count": 26,
   "metadata": {},
   "outputs": [
    {
     "data": {
      "text/plain": [
       "array([[ 42, -99],\n",
       "       [  4,  -3],\n",
       "       [  7,  17],\n",
       "       [ 99,  22]])"
      ]
     },
     "execution_count": 26,
     "metadata": {},
     "output_type": "execute_result"
    }
   ],
   "source": [
    "# 1번 전치 하라\n",
    "y = np.array([[42, 4, 7, 99], [-99, -3, 17, 22]])\n",
    "y.T"
   ]
  },
  {
   "cell_type": "code",
   "execution_count": 27,
   "metadata": {},
   "outputs": [
    {
     "data": {
      "text/plain": [
       "array([[-25,  70],\n",
       "       [-20,   8]])"
      ]
     },
     "execution_count": 27,
     "metadata": {},
     "output_type": "execute_result"
    }
   ],
   "source": [
    "# Hadamard 곱\n",
    "x = np.array([[25, 10],  [-2, 1]])\n",
    "y = np.array([[-1, 7], [10, 8]])\n",
    "\n",
    "hadamard_product = x * y\n",
    "hadamard_product"
   ]
  },
  {
   "cell_type": "code",
   "execution_count": 28,
   "metadata": {},
   "outputs": [
    {
     "data": {
      "text/plain": [
       "15"
      ]
     },
     "execution_count": 28,
     "metadata": {},
     "output_type": "execute_result"
    }
   ],
   "source": [
    "# 두 텐서의 W와 X의 내적은 무엇인가?\n",
    "w = np.array([-1, 2, -2])\n",
    "y = np.array([5, 10, 0])\n",
    "\n",
    "np.dot(w, y)"
   ]
  },
  {
   "cell_type": "markdown",
   "metadata": {},
   "source": [
    "# 선형계 풀이법"
   ]
  },
  {
   "cell_type": "code",
   "execution_count": 29,
   "metadata": {},
   "outputs": [],
   "source": [
    "# 1. 치환법: 1의 계수를 갖는 연립방정식에 변수가 있을 때 유용한 메서드 (1y = y)"
   ]
  },
  {
   "cell_type": "markdown",
   "metadata": {},
   "source": [
    "y = 3x\n",
    "-5x + 2y = 2\n",
    "-5x + 2(3x) = 2\n",
    "-5x + 6x = 2\n",
    "x = 2\n",
    "y = 6\n",
    "(x,y) = (2,6)"
   ]
  },
  {
   "cell_type": "markdown",
   "metadata": {},
   "source": [
    "x + y = 6 and 2x + 3y = 16\n",
    "x + y = 6\n",
    "# 치환법\n",
    "y = 6 -x (이항, 부호 변경)\n",
    "\n",
    "2x + 3y = 16\n",
    "2x + 3(6-x) = 16 (분배법칙)\n",
    "2x + 18 -3x = 16\n",
    "2x - 3x + 18 = 16\n",
    "-x + 18 = 16\n",
    "-x = 16 -18 (이항)\n",
    "-x = -2\n",
    "-1x * -1 = -2 x -1\n",
    "x = 2 "
   ]
  },
  {
   "cell_type": "markdown",
   "metadata": {},
   "source": [
    "# 이항은 덧셈이나 뺄셈을 할 때 사용된다. 곱셉에서는 약분하라.\n",
    "-x + 4y = 0 and 2x -5y = -6\n",
    "-x + 4y = 0\n",
    "4y = 0 + x\n",
    "4y = x \n",
    "\n",
    "2x -5y = -6\n",
    "2(4y) - 5y = -6\n",
    "8y -5y = -6\n",
    "3y = -6\n",
    "3으로 나눠라\n",
    "y = -2 \n",
    "\n",
    "\n",
    "4y = x \n",
    "4(-2) =x\n",
    "x =-8"
   ]
  },
  {
   "cell_type": "markdown",
   "metadata": {},
   "source": [
    "y = 4x + 1 and -4x + y  =2\n",
    "y = 4x + 1\n",
    "\n",
    "-4x + y  = 2\n",
    "-4x + 4x + 1 = 2\n",
    "1 = 2\n",
    "# 모순, 해가 없다. 즉 두 직선은 서로 평행하여 교점이 없다.\n",
    "# 두 직선은 기울기가 같고 y 절편만 다르다. "
   ]
  },
  {
   "cell_type": "markdown",
   "metadata": {},
   "source": [
    "# 소거법은 계수가 1인 변수가 연립방정식에 없을 때 사용한다."
   ]
  },
  {
   "cell_type": "markdown",
   "metadata": {},
   "source": [
    "4x -3y = 25 and -3x 8y = 10\n",
    "4x -3y = 25 (3를 곱하고)\n",
    "-3x 8y = 10 (4를 곱하고)\n",
    "\n",
    "12x −9y=75\n",
    "−12x +32y=40\n",
    "23y = 115\n",
    "23으로 나눠주면\n",
    "y = 5\n",
    "4x -15 = 25\n",
    "4x = 40 \n",
    "x = 10"
   ]
  },
  {
   "cell_type": "markdown",
   "metadata": {},
   "source": [
    "-9x -15y = -15 and 3x 5y = -10\n",
    "-9x -15y = -15\n",
    "3x 5y = -10 (3곱하기)\n",
    "9x 15 = - 30\n",
    "-9x -15y = -15\n",
    "0 = -15 \n",
    "# 해가 없다. 교차하지 않는다."
   ]
  },
  {
   "cell_type": "markdown",
   "metadata": {},
   "source": [
    "4x + 2y = 4\n",
    "-5x -3y = -7\n",
    "y를 소거해준다.\n",
    "3, 2를 각각 곱한다.\n",
    "12x + 6y = 12\n",
    "-10x -6y = -14\n",
    "2x = -2 \n",
    "x  = -1\n",
    "\n",
    "4(−1)+2y=4\n",
    "-4 + 2y = 4\n",
    "2y = 8\n",
    "y = 4"
   ]
  },
  {
   "cell_type": "code",
   "execution_count": 54,
   "metadata": {},
   "outputs": [
    {
     "data": {
      "text/plain": [
       "-0.625"
      ]
     },
     "execution_count": 54,
     "metadata": {},
     "output_type": "execute_result"
    }
   ],
   "source": [
    "-15 / 24"
   ]
  },
  {
   "cell_type": "code",
   "execution_count": 30,
   "metadata": {},
   "outputs": [],
   "source": [
    "x = np.linspace(-10, 10, 1000)\n",
    "\n",
    "y1 = 3 * X\n",
    "y2 = 1 + (5*x)/2"
   ]
  },
  {
   "cell_type": "code",
   "execution_count": null,
   "metadata": {},
   "outputs": [],
   "source": [
    "import matplotlib.pyplot as plt\n",
    "\n",
    "x = np.linspace(-10, 10, 1000)\n",
    "\n",
    "y1 = 3 * X\n",
    "y2 = 1 + (5*x)/2\n",
    "\n",
    "fig, ax = plt.subplots()\n",
    "plt.xlabel('x')\n",
    "plt.ylabel('y')\n",
    "\n",
    "ax.set_xlim([0, 3])\n",
    "ax.set_ylim([0, 8])\n",
    "\n",
    "ax.plot(x, y1, c='green')\n",
    "ax.plot(x, y2, c='brown')\n",
    "\n",
    "plt.axvline(x=2, color='purple', linestyle='--')\n",
    "_ = plt.axhline(y=6, color='purple', linestyle='--')"
   ]
  },
  {
   "cell_type": "code",
   "execution_count": 36,
   "metadata": {},
   "outputs": [
    {
     "data": {
      "image/png": "[encoded data removed]",
      "text/plain": [
       "<Figure size 640x480 with 1 Axes>"
      ]
     },
     "metadata": {},
     "output_type": "display_data"
    }
   ],
   "source": [
    "import numpy as np\n",
    "import matplotlib.pyplot as plt\n",
    "\n",
    "# x 범위를 설정\n",
    "x = np.linspace(-10, 10, 1000)\n",
    "\n",
    "# 첫 번째 식: y = 3x\n",
    "y1 = 3 * x\n",
    "\n",
    "# 두 번째 식: y = (5x + 2) / 2\n",
    "y2 = (5 * x + 2) / 2\n",
    "\n",
    "# 그래프 설정\n",
    "fig, ax = plt.subplots()\n",
    "plt.xlabel('x')\n",
    "plt.ylabel('y')\n",
    "\n",
    "# x, y 범위 설정\n",
    "ax.set_xlim([-10, 10])\n",
    "ax.set_ylim([-20, 20])\n",
    "\n",
    "# 두 직선을 그래프로 그리기\n",
    "ax.plot(x, y1, label='y = 3x', c='green')\n",
    "ax.plot(x, y2, label='y = (5x + 2) / 2', c='brown')\n",
    "\n",
    "# 교차점을 찾아 표시\n",
    "# y1 == y2일 때, 교차점 계산\n",
    "from sympy import symbols, Eq, solve\n",
    "\n",
    "# 심볼릭 계산을 사용하여 교차점 계산\n",
    "x_sym = symbols('x')\n",
    "eq1 = Eq(3 * x_sym, (5 * x_sym + 2) / 2)\n",
    "x_intersection = solve(eq1, x_sym)[0]\n",
    "\n",
    "# 교차점 y 값 계산\n",
    "y_intersection = 3 * x_intersection\n",
    "\n",
    "# 교차점을 그래프에 표시\n",
    "ax.scatter(x_intersection, y_intersection, color='red', zorder=5)\n",
    "ax.text(x_intersection, y_intersection, f'  ({x_intersection:.2f}, {y_intersection:.2f})', color='red')\n",
    "\n",
    "# 그래프에 레이블 추가\n",
    "plt.axvline(x=x_intersection, color='purple', linestyle='--')\n",
    "plt.axhline(y=y_intersection, color='purple', linestyle='--')\n",
    "\n",
    "# 범례 추가\n",
    "plt.legend()\n",
    "\n",
    "# 그래프 출력\n",
    "plt.show()\n"
   ]
  },
  {
   "cell_type": "code",
   "execution_count": 38,
   "metadata": {},
   "outputs": [
    {
     "data": {
      "image/png": "[encoded data removed]",
      "text/plain": [
       "<Figure size 640x480 with 1 Axes>"
      ]
     },
     "metadata": {},
     "output_type": "display_data"
    }
   ],
   "source": [
    "import numpy as np\n",
    "import matplotlib.pyplot as plt\n",
    "\n",
    "# x 범위를 설정\n",
    "x = np.linspace(-10, 10, 1000)\n",
    "\n",
    "# 첫 번째 식: y = 3x\n",
    "y1 = 3 * x\n",
    "\n",
    "# 두 번째 식: y = (5x + 2) / 2\n",
    "y2 = (5 * x + 2) / 2\n",
    "\n",
    "# x, y 범위 설정\n",
    "# ,atplotlib은 범위가 없으면 데이터를 기반으로 자동으로 적절한 범위를 선택해 준다. \n",
    "# ax.set_xlim([-10, 10])\n",
    "# ax.set_ylim([-20, 20])\n",
    "\n",
    "# 그래프 설정\n",
    "fig, ax = plt.subplots()\n",
    "plt.xlabel('x')\n",
    "plt.ylabel('y')\n",
    "\n",
    "# 두 직선을 그래프로 그리기\n",
    "ax.plot(x, y1, label='y = 3x', color='green')\n",
    "ax.plot(x, y2, label='y = (5x + 2) / 2', color='brown')\n",
    "\n",
    "# 교차점을 찾아 표시\n",
    "from sympy import symbols, Eq, solve\n",
    "\n",
    "# 심볼릭 계산을 사용하여 교차점 계산\n",
    "x_sym = symbols('x')\n",
    "eq1 = Eq(3 * x_sym, (5 * x_sym + 2) / 2)\n",
    "x_intersection = solve(eq1, x_sym)[0]\n",
    "\n",
    "# 교차점 y 값 계산\n",
    "y_intersection = 3 * x_intersection\n",
    "\n",
    "# 교차점을 그래프에 표시\n",
    "ax.scatter(x_intersection, y_intersection, color='red', zorder=5)\n",
    "ax.text(x_intersection, y_intersection, f'  ({x_intersection:.2f}, {y_intersection:.2f})', color='red')\n",
    "\n",
    "# 그래프에 레이블 추가\n",
    "plt.axvline(x=x_intersection, color='purple', linestyle='--')\n",
    "plt.axhline(y=y_intersection, color='purple', linestyle='--')\n",
    "\n",
    "# 범례 추가\n",
    "plt.legend()\n",
    "\n",
    "# 그래프 출력\n",
    "plt.show()"
   ]
  },
  {
   "cell_type": "code",
   "execution_count": 43,
   "metadata": {},
   "outputs": [],
   "source": [
    "import numpy as np\n",
    "import matplotlib.pyplot as plt\n",
    "from sympy import symbols, Eq, solve\n",
    "\n",
    "# 변수 정의\n",
    "x_sym, y_sym = symbols('x y')\n",
    "\n",
    "# 방정식 정의 (좌변과 우변을 Eq() 함수로 정의)\n",
    "eq1 = Eq(2 * x_sym - 3 * y_sym, 15)  # 좌변과 우변을 명확히 정의\n",
    "eq2 = Eq(4 * x_sym + 10 * y_sym, 14)  # 좌변과 우변을 명확히 \n",
    "\n",
    "# 연립방정식 풀기\n",
    "solution = solve((eq1, eq2), (x_sym, y_sym))"
   ]
  },
  {
   "cell_type": "code",
   "execution_count": 44,
   "metadata": {},
   "outputs": [
    {
     "name": "stdout",
     "output_type": "stream",
     "text": [
      "x 교차점: 6, y 교차점: -1\n"
     ]
    },
    {
     "data": {
      "image/png": "[encoded data removed]",
      "text/plain": [
       "<Figure size 640x480 with 1 Axes>"
      ]
     },
     "metadata": {},
     "output_type": "display_data"
    }
   ],
   "source": [
    "import numpy as np\n",
    "import matplotlib.pyplot as plt\n",
    "from sympy import symbols, Eq, solve, lambdify\n",
    "\n",
    "# 변수 정의\n",
    "x_sym, y_sym = symbols('x y')\n",
    "\n",
    "# 방정식 정의\n",
    "eq1 = Eq(2 * x_sym - 3 * y_sym, 15)\n",
    "eq2 = Eq(4 * x_sym + 10 * y_sym, 14)\n",
    "\n",
    "# 연립방정식 풀기\n",
    "solution = solve((eq1, eq2), (x_sym, y_sym))\n",
    "x_intersection = solution[x_sym]\n",
    "y_intersection = solution[y_sym]\n",
    "\n",
    "print(f\"x 교차점: {x_intersection}, y 교차점: {y_intersection}\")\n",
    "\n",
    "# x 범위 설정\n",
    "x_vals = np.linspace(-10, 10, 400)\n",
    "\n",
    "# SymPy 방정식을 y에 대해 풀고 lambdify로 수치화\n",
    "y1_expr = solve(eq1, y_sym)[0]  # eq1을 y에 대해 풀기\n",
    "y2_expr = solve(eq2, y_sym)[0]  # eq2를 y에 대해 풀기\n",
    "\n",
    "# lambdify를 사용해 SymPy 수식을 NumPy로 변환\n",
    "y1_func = lambdify(x_sym, y1_expr, modules=['numpy'])\n",
    "y2_func = lambdify(x_sym, y2_expr, modules=['numpy'])\n",
    "\n",
    "# NumPy 함수로 변환한 y1_func, y2_func에 대해 y 값 계산\n",
    "y1_vals = y1_func(x_vals)\n",
    "y2_vals = y2_func(x_vals)\n",
    "\n",
    "# 그래프 그리기\n",
    "plt.plot(x_vals, y1_vals, label='2x - 3y = 15', color='green')\n",
    "plt.plot(x_vals, y2_vals, label='4x + 10y = 14', color='brown')\n",
    "\n",
    "# 교차점 표시\n",
    "plt.scatter([x_intersection], [y_intersection], color='red', zorder=5)\n",
    "plt.text(x_intersection, y_intersection, f'({x_intersection:.2f}, {y_intersection:.2f})', color='red')\n",
    "\n",
    "# 범례와 축 설정\n",
    "plt.axvline(x=x_intersection, color='purple', linestyle='--')\n",
    "plt.axhline(y=y_intersection, color='purple', linestyle='--')\n",
    "plt.xlabel('x')\n",
    "plt.ylabel('y')\n",
    "plt.legend()\n",
    "plt.grid(True)\n",
    "plt.show()\n"
   ]
  },
  {
   "cell_type": "code",
   "execution_count": 45,
   "metadata": {},
   "outputs": [
    {
     "data": {
      "image/png": "[encoded data removed]",
      "text/plain": [
       "<Figure size 640x480 with 1 Axes>"
      ]
     },
     "metadata": {},
     "output_type": "display_data"
    }
   ],
   "source": [
    "import numpy as np\n",
    "import matplotlib.pyplot as plt\n",
    "\n",
    "# x 값의 범위 설정\n",
    "x_vals = np.linspace(-10, 10, 400)\n",
    "\n",
    "# 첫 번째 방정식: y = (2x - 15) / 3\n",
    "y1_vals = (2 * x_vals - 15) / 3\n",
    "\n",
    "# 두 번째 방정식: y = (14 - 4x) / 10\n",
    "y2_vals = (14 - 4 * x_vals) / 10\n",
    "\n",
    "# 그래프 설정\n",
    "plt.plot(x_vals, y1_vals, label='2x - 3y = 15', color='green')\n",
    "plt.plot(x_vals, y2_vals, label='4x + 10y = 14', color='brown')\n",
    "\n",
    "# 교차점 계산 (수작업으로 구한 값)\n",
    "x_intersection = (15 * 10 + 14 * 3) / (2 * 10 + 4 * 3)  # x 교차점\n",
    "y_intersection = (2 * x_intersection - 15) / 3          # y 교차점\n",
    "\n",
    "# 교차점 표시\n",
    "plt.scatter([x_intersection], [y_intersection], color='red', zorder=5)\n",
    "plt.text(x_intersection, y_intersection, f'({x_intersection:.2f}, {y_intersection:.2f})', color='red')\n",
    "\n",
    "# 보조선 추가\n",
    "plt.axvline(x=x_intersection, color='purple', linestyle='--')\n",
    "plt.axhline(y=y_intersection, color='purple', linestyle='--')\n",
    "\n",
    "# 그래프 꾸미기\n",
    "plt.xlabel('x')\n",
    "plt.ylabel('y')\n",
    "plt.legend()\n",
    "plt.grid(True)\n",
    "plt.show()\n"
   ]
  }
 ],
 "metadata": {
  "kernelspec": {
   "display_name": "Python 3",
   "language": "python",
   "name": "python3"
  },
  "language_info": {
   "codemirror_mode": {
    "name": "ipython",
    "version": 3
   },
   "file_extension": ".py",
   "mimetype": "text/x-python",
   "name": "python",
   "nbconvert_exporter": "python",
   "pygments_lexer": "ipython3",
   "version": "3.9.9"
  }
 },
 "nbformat": 4,
 "nbformat_minor": 2
}
