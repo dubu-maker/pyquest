{
 "cells": [
  {
   "cell_type": "code",
   "execution_count": null,
   "metadata": {},
   "outputs": [],
   "source": [
    "import numpy as np\n",
    "import matplotlib.pyplot as plt\n",
    "\n",
    "t = np.linspace(0, 40, 1000) # start, stop, num\n",
    "# linespace는 주어진 범위 내에서 균등하게 간격을 둔 숫자 배열을 생성하는 함수\n",
    "\n",
    "print(t)"
   ]
  },
  {
   "cell_type": "code",
   "execution_count": null,
   "metadata": {},
   "outputs": [],
   "source": [
    "d_r = 2.5 * t\n",
    "d_s = 3 * (t -5)\n",
    "\n",
    "fig, ax = plt.subplots()\n",
    "plt.title('A Bank Robber Caught')\n",
    "plt.xlabel('Time (in minutes)')\n",
    "plt.ylabel('Distance (in km)')\n",
    "\n",
    "ax.set_xlim([0, 40])\n",
    "ax.set_ylim([0, 100])\n",
    "\n",
    "ax.plot(t, d_r, c='green') #  t: x축(독립 변수), d_r(종속 변수): y축, c: color\n",
    "ax.plot(t, d_s, c='brown')\n",
    "\n",
    "plt.axvline(x=30, color='purple', linestyle='--')\n",
    "_ = plt.axhline(y=75, color='purple', linestyle='--')"
   ]
  },
  {
   "cell_type": "code",
   "execution_count": null,
   "metadata": {},
   "outputs": [],
   "source": [
    "# 4월 1일 생산 mark 1 = 하루 1 Kj / day\n",
    "# 5월 1일 생산 mark 2 = 하루 4kj / day\n",
    "\n",
    "# mark2가 언제 mark1을 따라잡는가?\n",
    "# 그날 발전된 에너지의 총량 각각 얼마인가?"
   ]
  },
  {
   "cell_type": "code",
   "execution_count": null,
   "metadata": {},
   "outputs": [],
   "source": [
    "import numpy as np\n",
    "import matplotlib.pyplot as plt\n",
    "\n",
    "# 마크1과 마크2의 생산량을 계산하는 함수를 정의합니다\n",
    "def mark1_production(days):\n",
    "    return days\n",
    "\n",
    "def mark2_production(days):\n",
    "    return np.where(days >= 30, 4 * (days - 30), 0)\n",
    "\n",
    "# 4월 1일부터 5월 10일까지의 날짜를 배열로 만듭니다\n",
    "days = np.arange(0, 41)\n",
    "\n",
    "# 각 날짜에 대한 마크1과 마크2의 생산량을 계산합니다\n",
    "mark1 = mark1_production(days)\n",
    "mark2 = mark2_production(days)\n",
    "\n",
    "plt.plot(days, mark1, label='Mark 1 Production')\n",
    "plt.plot(days, mark2, label='Mark 2 Production')\n",
    "plt.xlabel('Days since April 1')\n",
    "plt.ylabel('Production (kJ)')\n",
    "plt.title('Production Comparison between Mark 1 and Mark 2')\n",
    "plt.legend()\n",
    "plt.grid(True)\n",
    "plt.show()"
   ]
  },
  {
   "cell_type": "code",
   "execution_count": null,
   "metadata": {},
   "outputs": [],
   "source": [
    "import matplotlib.pyplot as plt\n",
    "import numpy as np\n",
    "\n",
    "# 날짜 설정\n",
    "days_from_april_1 = np.arange(0, 70)  # 4월 1일부터 6월 9일까지 70일 간\n",
    "# 벡터화: 배열 전체에 연산을 적용하는 방식, 넘파이는 기본적으로 벡터화된 방식으로 처리한다.\n",
    "\n",
    "# 마크1과 마크2의 누적 생산량\n",
    "mark1_production = days_from_april_1\n",
    "mark2_production = np.maximum(0, (days_from_april_1 - 30) * 4)\n",
    "# np.maximum(a, b)함수는 두 값 중 더 큰 값을 반환한다. \n",
    "# days_from_april_1 = 30. 5월 1일을 의미한다.\n",
    "\n",
    "# 마크1의 생산량 (하루 1kJ)\n",
    "mark1_production = days_from_april_1\n",
    "\n",
    "# 마크2가 마크1을 처음으로 넘는 날짜 계산\n",
    "for i in range(len(days_from_april_1)):\n",
    "    if mark2_production[i] > mark1_production[i]:\n",
    "        print(f\"Mark 2 exceeds Mark 1 on day {i} (relative to April 1)\")\n",
    "        break\n",
    "\n",
    "\n",
    "# 그래프 그리기\n",
    "plt.figure(figsize=(10, 6))\n",
    "plt.plot(days_from_april_1, mark1_production, label='Mark 1', color='blue')\n",
    "plt.plot(days_from_april_1, mark2_production, label='Mark 2', color='red', linestyle='--')\n",
    "# plt.plot(x, y, 범례, 색상, 선의 스타일)\n",
    "\n",
    "# 두 기계의 교차점을 강조\n",
    "plt.axvline(x=40, color='green', linestyle=':', label='Mark 2 catches Mark 1 (May 10)')\n",
    "\n",
    "# 그래프 세부 설정\n",
    "plt.title('Cumulative Production of Mark 1 and Mark 2')\n",
    "plt.xlabel('Days from April 1')\n",
    "plt.ylabel('Cumulative Energy Production (kJ)')\n",
    "plt.legend()\n",
    "plt.grid(True)\n",
    "\n",
    "# 그래프 출력\n",
    "plt.show()"
   ]
  },
  {
   "cell_type": "code",
   "execution_count": null,
   "metadata": {},
   "outputs": [],
   "source": [
    "np.arange(0, 10, 2)  # 결과: array([0, 2, 4, 6, 8])\n",
    "# 0은 시작값, 10은 미포함, 2는 간격\n",
    "# 주로 반복문에서 사용될 인덱스나 간격이 일정한 수열을 생성\n",
    "\n",
    "np.linspace(0, 10, 5)  # 결과: array([ 0.  ,  2.5,  5.  ,  7.5, 10.  ])\n",
    "# 주로 그래프의 축 포인트를 정의하거나, 특정 범위 내에서 균등한 샘플을 추출할 때 사용\n",
    "\n",
    "# arange는 종료값을 포함하지 않는다. 반면 linspace는 종료값을 포함한다\n",
    "# arange는 스텝 크기에 따라 배열의 크기가 결정된다. 정확한 요소 수를 미리 알 수 없다.\n",
    "\n",
    "# linspace는 생성될 요소의 수를 직접 지정한다. 따라서 생성될 배열의 크기를 정확히 알 수 있다."
   ]
  },
  {
   "cell_type": "markdown",
   "metadata": {},
   "source": [
    "### 텐서(Tensor)란?\n",
    "\n",
    "**텐서(Tensor)**는 **다차원 배열**을 의미하며, 수학, 물리학, 그리고 컴퓨터 과학(특히 딥러닝과 머신러닝)에서 중요한 개념입니다. 텐서는 스칼라, 벡터, 행렬을 일반화한 개념으로, 여러 차원을 가진 데이터를 다룰 수 있도록 해줍니다. 간단히 말해, 텐서는 **데이터를 저장하는 컨테이너**이며, 다양한 차원의 데이터를 표현할 수 있습니다.\n",
    "\n",
    "### 텐서의 차원 (Rank)\n",
    "\n",
    "텐서는 몇 차원의 데이터를 다루는지에 따라 구분되며, 차원을 **랭크(rank)**라고 합니다. 텐서는 0차원부터 시작해서 더 높은 차원의 데이터까지 표현할 수 있습니다.\n",
    "\n",
    "#### 0차원 텐서: 스칼라(Scalar)\n",
    "- **스칼라**는 하나의 숫자, 즉 단일 값입니다. 이것을 0차원 텐서라고 부릅니다.\n",
    "  - 예시: `3`, `-1.5`, `7`\n",
    "\n",
    "#### 1차원 텐서: 벡터(Vector)\n",
    "- **벡터**는 숫자의 리스트, 즉 1차원 배열입니다.\n",
    "  - 예시: `[1, 2, 3]`, `[0.5, -0.1, 4.7]`\n",
    "\n",
    "#### 2차원 텐서: 행렬(Matrix)\n",
    "- **행렬**은 2차원 배열로, 벡터를 여러 개 묶은 것입니다.\n",
    "  - 예시: `[[1, 2, 3], [4, 5, 6], [7, 8, 9]]`\n",
    "  \n",
    "#### 3차원 이상의 텐서\n",
    "- **3차원 텐서**는 여러 개의 행렬이 모인 배열입니다.\n",
    "  - 예시: 세 개의 2x2 행렬이 모인 3차원 텐서\n",
    "  ```python\n",
    "  [\n",
    "    [[1, 2], [3, 4]],\n",
    "    [[5, 6], [7, 8]],\n",
    "    [[9, 10], [11, 12]]\n",
    "  ]\n",
    "  ```\n",
    "- **4차원 텐서** 이상: 예를 들어, 이미지 데이터는 보통 4차원 텐서로 표현됩니다. 한 예로, 이미지의 `배치 크기 x 높이 x 너비 x 채널` 형식의 데이터가 있습니다. 이 경우 하나의 텐서가 여러 이미지 데이터를 포함할 수 있습니다.\n",
    "\n",
    "\n",
    "### 머신러닝과 딥러닝에서의 텐서\n",
    "텐서는 **딥러닝 라이브러리**에서 주로 사용되며, 특히 **TensorFlow**와 **PyTorch**에서 핵심적인 데이터 구조입니다. 딥러닝 모델은 텐서를 입력받아 연산하고, 결과도 텐서로 출력합니다.\n",
    "\n",
    "#### 예시:\n",
    "- **이미지 데이터**: 이미지 데이터는 보통 3차원 또는 4차원 텐서로 표현됩니다. 예를 들어, 한 장의 컬러 이미지는 `(높이, 너비, 채널)`로 3차원 텐서로 표현될 수 있습니다.\n",
    "- **자연어 처리(NLP)**: 텍스트 데이터는 단어의 시퀀스를 텐서로 변환하여 다룹니다. 예를 들어, 문장의 각 단어를 벡터로 변환한 후, 문장 전체를 하나의 텐서로 취급합니다.\n",
    "\n",
    "\n",
    "### 텐서의 특징\n",
    "- **유연한 차원**: 텐서는 차원의 개수가 자유롭고, 각 차원의 크기도 유동적입니다. 예를 들어, 2차원 행렬(배열)은 3x3, 4x5 등 다양한 크기로 존재할 수 있습니다.\n",
    "- **효율적인 연산**: 텐서 연산은 GPU와 같은 고성능 하드웨어에서 병렬 처리에 최적화되어 있어, 대규모 데이터를 빠르게 처리할 수 있습니다.\n",
    "\n",
    "### 요약\n",
    "- **텐서**는 **다차원 배열**로, 머신러닝과 딥러닝에서 데이터를 표현하고 처리하는 기본 단위입니다.\n",
    "- 텐서는 차원의 수에 따라 **스칼라(0차원)**, **벡터(1차원)**, **행렬(2차원)**, 그리고 그 이상의 다차원 구조로 표현됩니다.\n",
    "- 텐서는 수학적 연산, 특히 딥러닝에서 신경망을 구성하고 데이터 처리를 위한 핵심 개념으로 사용됩니다."
   ]
  },
  {
   "cell_type": "code",
   "execution_count": null,
   "metadata": {},
   "outputs": [],
   "source": [
    "# nvidia-smi : GPU의 상태를 확인할 수 있는 명령어"
   ]
  },
  {
   "cell_type": "code",
   "execution_count": 2,
   "metadata": {},
   "outputs": [
    {
     "name": "stdout",
     "output_type": "stream",
     "text": [
      "True\n",
      "11.8\n"
     ]
    }
   ],
   "source": [
    "import torch\n",
    "\n",
    "# CUDA 사용 가능 여부 확인\n",
    "print(torch.cuda.is_available())  # True가 나오면 GPU가 정상적으로 작동 중\n",
    "\n",
    "# PyTorch가 사용하는 CUDA 버전 확인 (괄호 없이 사용)\n",
    "print(torch.version.cuda)  # 설치된 PyTorch에서 사용하는 CUDA 버전 출력"
   ]
  },
  {
   "cell_type": "code",
   "execution_count": 3,
   "metadata": {},
   "outputs": [
    {
     "data": {
      "text/plain": [
       "tensor([25])"
      ]
     },
     "execution_count": 3,
     "metadata": {},
     "output_type": "execute_result"
    }
   ],
   "source": [
    "x_pt = torch.tensor([25])\n",
    "x_pt"
   ]
  },
  {
   "cell_type": "code",
   "execution_count": 9,
   "metadata": {},
   "outputs": [
    {
     "name": "stdout",
     "output_type": "stream",
     "text": [
      "torch.Size([1]) torch.Size([])\n"
     ]
    }
   ],
   "source": [
    "x_1 = torch.tensor([25]) # 1차원 텐서\n",
    "x_0 = torch.tensor(25) # 스칼라\n",
    "\n",
    "print(x_1.shape,x_0.shape)"
   ]
  },
  {
   "cell_type": "code",
   "execution_count": 1,
   "metadata": {},
   "outputs": [
    {
     "name": "stdout",
     "output_type": "stream",
     "text": [
      "[name: \"/device:CPU:0\"\n",
      "device_type: \"CPU\"\n",
      "memory_limit: 268435456\n",
      "locality {\n",
      "}\n",
      "incarnation: 278118327859889548\n",
      "xla_global_id: -1\n",
      "]\n",
      "Num GPUs Available:  0\n",
      "True\n"
     ]
    }
   ],
   "source": [
    "import tensorflow as tf\n",
    "from tensorflow.python.client import device_lib\n",
    "print(device_lib.list_local_devices())\n",
    "print(\"Num GPUs Available: \", len(tf.config.list_physical_devices('GPU')))\n",
    "\n",
    "import torch\n",
    "print(torch.cuda.is_available())  # True가 나오면 GPU가 정상적으로 인식됨"
   ]
  },
  {
   "cell_type": "markdown",
   "metadata": {},
   "source": [
    "`np.array([25, 2, 5])`와 `np.arange()`는 모두 **NumPy 배열**을 생성하는 데 사용되지만, **생성 방식**과 **용도**에서 차이가 있습니다. \n",
    "\n",
    "### 1. **`np.array()`**\n",
    "- **목적**: `np.array()`는 **직접적으로 값을 명시**하여 배열을 생성하는 함수입니다.\n",
    "- **사용 예시**:\n",
    "  ```python\n",
    "  import numpy as np\n",
    "  arr = np.array([25, 2, 5])\n",
    "  print(arr)  # [25  2  5]\n",
    "  ```\n",
    "- **설명**:\n",
    "  - **직접적으로 지정한 값**을 배열로 변환합니다.\n",
    "  - 리스트, 튜플 등의 데이터를 입력으로 받으며, 이를 **NumPy 배열**로 변환합니다.\n",
    "  - 생성된 배열의 요소들은 입력으로 제공된 데이터 그대로입니다.\n",
    "\n",
    "### 2. **`np.arange()`**\n",
    "- **목적**: `np.arange()`는 **연속된 값의 배열**을 생성하는 함수입니다.\n",
    "- **사용 예시**:\n",
    "  ```python\n",
    "  import numpy as np\n",
    "  arr = np.arange(25, 30, 2)\n",
    "  print(arr)  # [25 27 29]\n",
    "  ```\n",
    "- **설명**:\n",
    "  - **시작 값, 끝 값, 증가값**을 제공하여 **연속적인 숫자의 배열**을 만듭니다.\n",
    "  - 일반적으로 **for문**에서 사용할 수 있는 **range() 함수**와 유사하지만, NumPy 배열을 반환합니다.\n",
    "  - **증가 값**(step)을 지정할 수 있으며, 기본 값은 1입니다.\n",
    "  - 마지막 값은 **포함되지 않으며**, 끝 값 바로 앞까지의 숫자들로 배열을 생성합니다.\n",
    "\n",
    "#### 예시:\n",
    "- `np.arange(25, 30, 2)`는 **25부터 30까지 2씩 증가**하는 값들로 배열을 생성하여 `[25, 27, 29]`을 반환합니다.\n",
    "\n",
    "### 주요 차이점:\n",
    "\n",
    "| 기능                  | `np.array()`                                     | `np.arange()`                                |\n",
    "|-----------------------|--------------------------------------------------|----------------------------------------------|\n",
    "| **생성 방식**          | 사용자가 직접 입력한 값으로 배열 생성            | 시작 값, 끝 값, 증가 값으로 연속된 배열 생성 |\n",
    "| **용도**               | 다양한 데이터 형태 (리스트, 튜플 등)에서 배열 생성 | 범위 내에서 일정한 규칙을 가진 배열 생성    |\n",
    "| **입력 값의 형태**     | 리스트, 튜플, 배열 등                            | 숫자 범위 및 step 값                         |\n",
    "| **연속된 값**          | 명시적으로 지정된 값들                           | 연속적인 숫자 범위에 따라 자동 생성         |\n",
    "| **예시**               | `np.array([25, 2, 5])`                           | `np.arange(25, 30, 2)`                       |\n",
    "\n",
    "### 정리:\n",
    "- **`np.array()`**: 직접 지정한 데이터를 배열로 변환.\n",
    "- **`np.arange()`**: 특정 범위의 연속된 숫자들로 배열을 자동 생성.\n",
    "\n",
    "이 두 함수는 배열을 생성하는 방식이 다르므로, **데이터에 따라 적합한 함수**를 선택하여 사용할 수 있습니다. **연속된 값**이 필요할 때는 `np.arange()`를, **특정한 값**을 배열로 만들고 싶을 때는 `np.array()`를 사용하면 됩니다.\n",
    "\n",
    "추가적인 질문이 있으면 언제든지 물어보세요!"
   ]
  },
  {
   "cell_type": "code",
   "execution_count": 12,
   "metadata": {},
   "outputs": [
    {
     "data": {
      "text/plain": [
       "(3,)"
      ]
     },
     "execution_count": 12,
     "metadata": {},
     "output_type": "execute_result"
    }
   ],
   "source": [
    "import numpy as np\n",
    "\n",
    "x = np.array([25, 2, 5])\n",
    "len(x)\n",
    "type(x)\n",
    "x.shape\n",
    "x[0]"
   ]
  },
  {
   "cell_type": "code",
   "execution_count": 13,
   "metadata": {},
   "outputs": [
    {
     "data": {
      "text/plain": [
       "array([25,  2,  5])"
      ]
     },
     "execution_count": 13,
     "metadata": {},
     "output_type": "execute_result"
    }
   ],
   "source": [
    "# 넘파이에서 벡터 전치하기\n",
    "x_t = x.T\n",
    "x_t\n",
    "\n",
    "# .T는 **NumPy 배열의 전치(transpose)**를 의미하는 속성, 특히 행렬에서 행(rwo)과 열(column)을 바꾸는 작업을 수행\n",
    "# 1차원 배열에서는 전치가 의미가 없다. 행이나 열이 없기 때문이다.\n",
    "# 2치원 배열에서는 행과 열을 바꾸는 작업을 수행한다.\n",
    "# 3차원 이상의 배열에서는 각 차원이 교환되어 배열의 구조가 바뀐다."
   ]
  },
  {
   "cell_type": "code",
   "execution_count": 15,
   "metadata": {},
   "outputs": [
    {
     "data": {
      "text/plain": [
       "(1, 3)"
      ]
     },
     "execution_count": 15,
     "metadata": {},
     "output_type": "execute_result"
    }
   ],
   "source": [
    "y = np.array([[25, 2, 5]]) # 2차원 배열\n",
    "y.shape"
   ]
  },
  {
   "cell_type": "code",
   "execution_count": 18,
   "metadata": {},
   "outputs": [
    {
     "data": {
      "text/plain": [
       "(array([[25],\n",
       "        [ 2],\n",
       "        [ 5]]),\n",
       " (3, 1))"
      ]
     },
     "execution_count": 18,
     "metadata": {},
     "output_type": "execute_result"
    }
   ],
   "source": [
    "y_t = y.T # 2차원 배열의 전치\n",
    "y_t, y_t.shape"
   ]
  },
  {
   "cell_type": "code",
   "execution_count": 20,
   "metadata": {},
   "outputs": [
    {
     "data": {
      "text/plain": [
       "array([0., 0., 0.])"
      ]
     },
     "execution_count": 20,
     "metadata": {},
     "output_type": "execute_result"
    }
   ],
   "source": [
    "# zero 벡터: 모든 요소가 0인 벡터\n",
    "z = np.zeros(3)\n",
    "z"
   ]
  },
  {
   "cell_type": "code",
   "execution_count": 22,
   "metadata": {},
   "outputs": [
    {
     "data": {
      "text/plain": [
       "(tensor([25,  2,  5]),\n",
       " <tf.Variable 'Variable:0' shape=(3,) dtype=int32, numpy=array([25,  2,  5])>)"
      ]
     },
     "execution_count": 22,
     "metadata": {},
     "output_type": "execute_result"
    }
   ],
   "source": [
    "# 파이토치 벡터 생성\n",
    "x_pt = torch.tensor([25, 2, 5])\n",
    "\n",
    "# 텐서플로 벡터 생성\n",
    "x_tf = tf.Variable([25, 2, 5])\n",
    "\n",
    "x_pt, x_tf"
   ]
  },
  {
   "cell_type": "code",
   "execution_count": null,
   "metadata": {},
   "outputs": [],
   "source": [
    "'노름은 벡터의 크기 또는 길이를 측정하는 함수'\n",
    "# 노름 Norm: 벡터의 크기를 측정하는 방법, 두 벡터간의 거리를 계산할 수 있다.\n",
    "# L1 Norm: 벡터의 각 요소의 절대값을 모두 더한  값\n",
    "\n",
    "# L2 노름은 벡터의 각 요소의 제곱을 모두 더한 값의 제곱근, 벡터의 유클리드 거리와 같다.\n",
    "# 최소 제곱 문제나 회귀 분석에서 사용된다."
   ]
  },
  {
   "cell_type": "code",
   "execution_count": 23,
   "metadata": {},
   "outputs": [
    {
     "name": "stdout",
     "output_type": "stream",
     "text": [
      "5.0\n"
     ]
    }
   ],
   "source": [
    "# gpt 예제\n",
    "import numpy as np\n",
    "\n",
    "x = np.array([3, 4])\n",
    "l2_norm = np.linalg.norm(x)\n",
    "print(l2_norm)"
   ]
  },
  {
   "cell_type": "code",
   "execution_count": 29,
   "metadata": {},
   "outputs": [
    {
     "data": {
      "text/plain": [
       "25.573423705088842"
      ]
     },
     "execution_count": 29,
     "metadata": {},
     "output_type": "execute_result"
    }
   ],
   "source": [
    "# L2 노름\n",
    "x = np.array([[25, 2, 5]])\n",
    "(25**2 + 2 ** 2 + 5 ** 2) ** (1/2)"
   ]
  },
  {
   "cell_type": "code",
   "execution_count": 30,
   "metadata": {},
   "outputs": [
    {
     "data": {
      "text/plain": [
       "25.573423705088842"
      ]
     },
     "execution_count": 30,
     "metadata": {},
     "output_type": "execute_result"
    }
   ],
   "source": [
    "np.linalg.norm(x)"
   ]
  },
  {
   "cell_type": "code",
   "execution_count": null,
   "metadata": {},
   "outputs": [],
   "source": [
    "np.linalg.norm(x)  # 또는 np.linalg.norm(x, ord=2)\n",
    "np.linalg.norm(x, ord=1) # L1 노름\n",
    "np.linalg.norm(x, ord=np.inf) # 최대 노름: 벡터 성분 중 가장 큰 절대값 계산\n",
    "\n",
    "x = np.array([1, 2, 3])\n",
    "\n",
    "# L1 노름\n",
    "l1_norm = np.linalg.norm(x, ord=1)\n",
    "print(\"L1 Norm:\", l1_norm)\n",
    "\n",
    "# L2 노름 (기본값)\n",
    "l2_norm = np.linalg.norm(x)\n",
    "print(\"L2 Norm:\", l2_norm)\n",
    "\n",
    "# L∞ 노름\n",
    "linf_norm = np.linalg.norm(x, ord=np.inf)\n",
    "print(\"L∞ Norm:\", linf_norm)"
   ]
  },
  {
   "cell_type": "code",
   "execution_count": null,
   "metadata": {},
   "outputs": [],
   "source": [
    "'벡터란 크기와 방향을 가진 수학적 개체이며, 다양한 차원에서 존재한다.'\n",
    "'단위벡터란 크기가 1인 벡터를 의미한다.'\n",
    "'정규화란 주어진 벡터를 단위벡터로 변환하는 과정을 의미한다, 즉 벡터의 크기를 1로 만드는 것이다.'"
   ]
  },
  {
   "cell_type": "code",
   "execution_count": 32,
   "metadata": {},
   "outputs": [
    {
     "data": {
      "text/plain": [
       "32"
      ]
     },
     "execution_count": 32,
     "metadata": {},
     "output_type": "execute_result"
    }
   ],
   "source": [
    "x = np.array([[25, 2, 5]])\n",
    "np.abs(25) + np.abs(2) + np.abs(5) # 수동으로 L1 노름 계산\n",
    "l1_norm = np.linalg.norm(x, ord=1) # 파이썬 넘파이가 자동으로 계산해준다."
   ]
  },
  {
   "cell_type": "code",
   "execution_count": 35,
   "metadata": {},
   "outputs": [
    {
     "data": {
      "text/plain": [
       "654"
      ]
     },
     "execution_count": 35,
     "metadata": {},
     "output_type": "execute_result"
    }
   ],
   "source": [
    "x = np.array([25, 2, 5])\n",
    "np.dot(x, x)"
   ]
  },
  {
   "cell_type": "code",
   "execution_count": null,
   "metadata": {},
   "outputs": [],
   "source": [
    "# 기저 벡터: 벡터 공간을 형성하는 벡터들의 집합, 단위 벡터로 이루어진 선형 독립인 벡터들의 집합\n",
    "# 직교 벡터: 내적\n",
    "\n",
    "# 내적: 두 벡터의 길이와 방향을 고려하여 계산한 스칼라 값\n",
    "# 내적은 두 벡터가 얼마나 비슷한 방향을 향하고 있는지를 나타내는 척도이다.\n",
    "# 내적이 0이면 두 벡터는 직교한다.\n",
    "\n",
    "# 내적은 두 벡터간의 연산, 두 벡터의 대응 성분을 곱한 후 모두 더한 값이다. 내적의 결과는 스칼라(하나의 숫자) 값이다.\n",
    "\n",
    "'a=[3,4], b=[1,2]일 때'\n",
    "# 2차원 벡터 a와 b의 내적\n",
    "'a⋅b=(3⋅1)+(4⋅2)=3+8=11'\n",
    "\n",
    "# 3차원 벡터의 내적\n",
    "'a=[2, 3, 4] b = [1, 0, -1]'\n",
    "'a⋅b = (2⋅1) + (3⋅0) + (4⋅-1) = 2 + 0 - 4 = -2'"
   ]
  },
  {
   "cell_type": "code",
   "execution_count": 21,
   "metadata": {},
   "outputs": [
    {
     "name": "stdout",
     "output_type": "stream",
     "text": [
      "11\n"
     ]
    }
   ],
   "source": [
    "# 내적을 구하는 파이썬 코드\n",
    "import numpy as np\n",
    "\n",
    "a = np.array([3, 4])\n",
    "b = np.array([1, 2])\n",
    "\n",
    "dot_product = np.dot(a, b)\n",
    "print(dot_product)  # 출력: 11"
   ]
  },
  {
   "cell_type": "markdown",
   "metadata": {},
   "source": [
    "네, 두 코드에서 사용된 **`np.dot()`** 함수는 **같은 함수**입니다. 하지만, 두 경우에서 **동작하는 방식**은 벡터의 차원에 따라 다릅니다. **`np.dot()`** 함수는 입력으로 주어지는 배열(벡터나 행렬)의 차원에 따라 다르게 동작하는 다목적 함수입니다.\n",
    "\n",
    "### 1. **`np.dot(x, x)` (자기 자신과의 내적)**:\n",
    "```python\n",
    "x = np.array([25, 2, 5])\n",
    "np.dot(x, x)\n",
    "```\n",
    "- 여기서 `x`는 **1차원 배열(벡터)**입니다.\n",
    "- **`np.dot(x, x)`**는 벡터 `x`의 **내적**(dot product)을 계산합니다. 즉, 벡터의 각 성분끼리 곱한 후 그 결과를 모두 더한 값을 반환합니다.\n",
    "  \n",
    "#### 계산:\n",
    "\\[\n",
    "\\mathbf{x} \\cdot \\mathbf{x} = (25 \\times 25) + (2 \\times 2) + (5 \\times 5) = 625 + 4 + 25 = 654\n",
    "\\]\n",
    "\n",
    "즉, **자기 자신과의 내적**을 계산한 것입니다. 이 값은 **벡터의 L2 노름의 제곱**과 동일합니다.\n",
    "\n",
    "### 2. **`np.dot(a, b)` (두 벡터의 내적)**: \n",
    "```python\n",
    "a = np.array([3, 4])\n",
    "b = np.array([1, 2])\n",
    "dot_product = np.dot(a, b)\n",
    "```\n",
    "- 여기서 `a`와 `b`는 둘 다 **1차원 배열(벡터)**입니다.\n",
    "- **`np.dot(a, b)`**는 두 벡터 `a`와 `b`의 **내적**을 계산합니다.\n",
    "\n",
    "#### 계산:\n",
    "\\[\n",
    "\\mathbf{a} \\cdot \\mathbf{b} = (3 \\times 1) + (4 \\times 2) = 3 + 8 = 11\n",
    "\\]\n",
    "\n",
    "두 벡터 사이의 내적을 계산하여 **스칼라 값**을 반환합니다.\n",
    "\n",
    "### 정리:\n",
    "- **`np.dot(x, x)`**와 **`np.dot(a, b)`**는 **같은 함수**를 사용하고 있습니다.\n",
    "- 하지만 첫 번째 경우에서는 **자기 자신과의 내적**을, 두 번째 경우에서는 **두 벡터 사이의 내적**을 계산합니다.\n",
    "- **1차원 배열(벡터)**에서는 `np.dot()` 함수가 **내적**을 계산합니다.\n",
    "\n",
    "### 차원이 다른 경우의 동작:\n",
    "- 만약 **2차원 배열(행렬)**에 `np.dot()`을 사용하면 **행렬 곱셈**을 수행하게 됩니다.\n",
    "- **벡터-행렬 곱**이나 **행렬-행렬 곱**에서 `np.dot()` 함수는 그에 맞게 동작을 달리합니다.\n",
    "\n",
    "두 코드에서 `np.dot()` 함수는 **내적을 계산하는 방식**으로 사용되었으며, **차원에 따라 적절하게 처리**됩니다."
   ]
  },
  {
   "cell_type": "code",
   "execution_count": null,
   "metadata": {},
   "outputs": [],
   "source": [
    "# 총정리"
   ]
  },
  {
   "cell_type": "markdown",
   "metadata": {},
   "source": [
    "1. **배열 (Array)**: \n",
    "   - 숫자나 값들이 나열된 집합입니다. 1차원 배열은 리스트처럼 값을 가지며, 2차원 배열은 행렬처럼 행과 열로 구성됩니다. 배열은 데이터를 저장하고 조작하는 기본적인 데이터 구조로 자주 사용됩니다.\n",
    "\n",
    "2. **텐서 (Tensor)**: \n",
    "   - 다차원 배열의 일반화된 형태로, 배열이나 행렬보다 더 많은 차원을 가질 수 있습니다. 예를 들어, 1차원 텐서는 벡터, 2차원 텐서는 행렬, 3차원 이상의 텐서는 주로 다중 차원의 데이터를 다룰 때 사용됩니다.\n",
    "\n",
    "3. **벡터 (Vector)**: \n",
    "   - 크기와 방향을 가진 1차원 배열입니다. 보통 공간에서의 위치나 물리적 개념을 나타낼 때 사용되며, 머신러닝에서는 데이터를 표현하는 중요한 방법입니다.\n",
    "\n",
    "4. **벡터 전치 (Vector Transpose)**: \n",
    "   - 벡터의 행(row)을 열(column)로, 열을 행으로 변환하는 연산입니다. 예를 들어, 1xN 행 벡터를 Nx1 열 벡터로 바꾸는 과정이 벡터 전치입니다.\n",
    "\n",
    "5. **노름 (Norm)**:\n",
    "   - 벡터의 크기를 측정하는 방식입니다. 대표적인 노름에는 L1 노름(맨해튼 거리)과 L2 노름(유클리드 거리)이 있으며, 각각 벡터 원소들의 절대값 합과 벡터 길이를 의미합니다. 머신러닝에서 벡터의 크기를 측정해 최적화 문제를 풀 때 자주 사용됩니다."
   ]
  },
  {
   "cell_type": "code",
   "execution_count": null,
   "metadata": {},
   "outputs": [],
   "source": [
    "import numpy as np\n",
    "\n",
    "# 1. 배열(Array): 1차원 배열 (벡터처럼)\n",
    "arr = np.array([1, 2, 3, 4])\n",
    "print(\"1차원 배열 (벡터처럼):\", arr)\n",
    "\n",
    "# 2. 텐서(Tensor): 2차원 배열 (행렬), 3차원 배열\n",
    "matrix = np.array([[1, 2], [3, 4]])  # 2x2 행렬\n",
    "tensor = np.array([[[1, 2], [3, 4]], [[5, 6], [7, 8]]])  # 3차원 텐서\n",
    "print(\"\\n2차원 배열 (행렬):\\n\", matrix)\n",
    "print(\"\\n3차원 배열 (텐서):\\n\", tensor)\n",
    "\n",
    "# 3. 벡터(Vector): 1차원 배열이 벡터가 될 수 있음\n",
    "vector = np.array([1, 2, 3])\n",
    "print(\"\\n벡터 (1차원 배열):\", vector)\n",
    "\n",
    "# 4. 벡터 전치 (Vector Transpose)\n",
    "vector_T = vector.reshape(3, 1)  # 벡터를 1차원에서 2차원으로 (행에서 열로)\n",
    "print(\"\\n벡터 전치 (1x3 -> 3x1):\\n\", vector_T)\n",
    "\n",
    "# 5. 노름 (Norm): 벡터의 크기를 계산\n",
    "l2_norm = np.linalg.norm(vector)  # L2 노름 (유클리드 거리)\n",
    "l1_norm = np.linalg.norm(vector, ord=1)  # L1 노름 (맨해튼 거리)\n",
    "print(\"\\nL2 노름 (유클리드 거리):\", l2_norm)\n",
    "print(\"L1 노름 (맨해튼 거리):\", l1_norm)\n",
    "\n",
    "# 이상한 추가: 벡터에 텐서를 더해보기 (이상한 조작)\n",
    "weird_addition = vector + tensor[0, 0]\n",
    "print(\"\\n벡터에 텐서의 일부를 더한 결과 (이상함):\", weird_addition)"
   ]
  },
  {
   "cell_type": "code",
   "execution_count": null,
   "metadata": {},
   "outputs": [],
   "source": [
    "# 행렬"
   ]
  },
  {
   "cell_type": "code",
   "execution_count": null,
   "metadata": {},
   "outputs": [],
   "source": [
    "import numpy as np\n",
    "\n",
    "# 1차원 배열\n",
    "x_1d = np.array([25, 2, 5, 26, 3, 7])   # 1차원 배열\n",
    "x_1d = np.array([[25, 2, 5, 26, 3, 7]]) # 2차원 배열 1행 6열\n",
    "print(x_1d)\n",
    "print(x_1d.shape)  # (6,)\n",
    "\n",
    "# 2차원 배열\n",
    "x_2d = np.array([[25, 2], [5, 26], [3, 7]]) # 2차원 배열 3행 2열\n",
    "print(x_2d)\n",
    "print(x_2d.shape)  # (3, 2)"
   ]
  },
  {
   "cell_type": "code",
   "execution_count": 7,
   "metadata": {},
   "outputs": [
    {
     "data": {
      "text/plain": [
       "(array([[25,  2],\n",
       "        [ 5, 26],\n",
       "        [ 3,  7]]),\n",
       " (3, 2),\n",
       " 6)"
      ]
     },
     "execution_count": 7,
     "metadata": {},
     "output_type": "execute_result"
    }
   ],
   "source": [
    "import numpy as np\n",
    "\n",
    "X = np.array([[25, 2], [5, 26], [3, 7]])\n",
    "X, X.shape, X.size\n",
    "# X.size 배열의 총 요소 확인"
   ]
  },
  {
   "cell_type": "code",
   "execution_count": null,
   "metadata": {},
   "outputs": [],
   "source": [
    "'NumPy에서 사용되는 형식: X[행 슬라이싱, 열 슬라이싱]'\n",
    "# NumPy 배열에서 다차원 슬라이싱을 사용하여 여러 차원을 동시에 선택할 수 있다."
   ]
  },
  {
   "cell_type": "code",
   "execution_count": 8,
   "metadata": {},
   "outputs": [
    {
     "data": {
      "text/plain": [
       "array([25,  5,  3])"
      ]
     },
     "execution_count": 8,
     "metadata": {},
     "output_type": "execute_result"
    }
   ],
   "source": [
    "X[: , 0] # 출력값은 벡터 텐서\n",
    "# : 모든 행을 선택하는 슬라이싱.\n",
    "# 0: 첫 번째 열을 선택하는 인덱스.\n",
    "# **X[:, 0]**는 모든 행에서 첫 번째 열을 추출하는 방식입니다."
   ]
  },
  {
   "cell_type": "code",
   "execution_count": 9,
   "metadata": {},
   "outputs": [
    {
     "data": {
      "text/plain": [
       "array([ 5, 26])"
      ]
     },
     "execution_count": 9,
     "metadata": {},
     "output_type": "execute_result"
    }
   ],
   "source": [
    "X[1, :]"
   ]
  },
  {
   "cell_type": "code",
   "execution_count": 12,
   "metadata": {},
   "outputs": [
    {
     "data": {
      "text/plain": [
       "array([[25,  2],\n",
       "       [ 5, 26]])"
      ]
     },
     "execution_count": 12,
     "metadata": {},
     "output_type": "execute_result"
    }
   ],
   "source": [
    "X[0:2, 0:2]"
   ]
  },
  {
   "cell_type": "code",
   "execution_count": 13,
   "metadata": {},
   "outputs": [
    {
     "data": {
      "text/plain": [
       "array([[ 5, 26],\n",
       "       [ 3,  7]])"
      ]
     },
     "execution_count": 13,
     "metadata": {},
     "output_type": "execute_result"
    }
   ],
   "source": [
    "X[1:3, 0:2]"
   ]
  },
  {
   "cell_type": "code",
   "execution_count": 15,
   "metadata": {},
   "outputs": [
    {
     "data": {
      "text/plain": [
       "(tensor([[25,  2],\n",
       "         [ 5, 26],\n",
       "         [ 3,  7]]),\n",
       " torch.Size([3, 2]))"
      ]
     },
     "execution_count": 15,
     "metadata": {},
     "output_type": "execute_result"
    }
   ],
   "source": [
    "# 파이토치 행렬\n",
    "X_pt = torch.tensor([[25, 2], [5, 26], [3, 7]])\n",
    "X_pt, X_pt.shape, "
   ]
  },
  {
   "cell_type": "code",
   "execution_count": 16,
   "metadata": {},
   "outputs": [
    {
     "data": {
      "text/plain": [
       "tensor([ 5, 26])"
      ]
     },
     "execution_count": 16,
     "metadata": {},
     "output_type": "execute_result"
    }
   ],
   "source": [
    "X_pt[1, : ]"
   ]
  },
  {
   "cell_type": "code",
   "execution_count": 18,
   "metadata": {},
   "outputs": [
    {
     "data": {
      "text/plain": [
       "<tf.Variable 'Variable:0' shape=(3, 2) dtype=int32, numpy=\n",
       "array([[25,  2],\n",
       "       [ 5, 26],\n",
       "       [ 3,  7]])>"
      ]
     },
     "execution_count": 18,
     "metadata": {},
     "output_type": "execute_result"
    }
   ],
   "source": [
    "# 텐서플로 행렬 만들기\n",
    "X_tf = tf.Variable([[25, 2], [5, 26], [3, 7]])\n",
    "X_tf"
   ]
  },
  {
   "cell_type": "code",
   "execution_count": 19,
   "metadata": {},
   "outputs": [
    {
     "data": {
      "text/plain": [
       "<tf.Tensor: shape=(), dtype=int32, numpy=2>"
      ]
     },
     "execution_count": 19,
     "metadata": {},
     "output_type": "execute_result"
    }
   ],
   "source": [
    "tf.rank(X_tf)"
   ]
  },
  {
   "cell_type": "code",
   "execution_count": 20,
   "metadata": {},
   "outputs": [
    {
     "data": {
      "text/plain": [
       "<tf.Tensor: shape=(2,), dtype=int32, numpy=array([ 5, 26])>"
      ]
     },
     "execution_count": 20,
     "metadata": {},
     "output_type": "execute_result"
    }
   ],
   "source": [
    "X_tf[1, :]"
   ]
  },
  {
   "cell_type": "markdown",
   "metadata": {},
   "source": [
    "맞습니다! **벡터의 전치**는 값을 새로 구하는 것이 아니라, **행과 열을 바꾸는 작업**입니다. 전치는 **2차원 이상의 배열(행렬)**에서 주로 사용됩니다. **1차원 벡터**는 **전치**를 해도 변화가 없기 때문에, **행과 열**의 개념이 명확한 **2차원 배열 이상**에서 전치가 의미가 있습니다.\n",
    "\n",
    "이제 **배열의 차원**을 구분하는 방법을 설명드리겠습니다.\n",
    "\n",
    "### 배열의 차원(차원 수)\n",
    "NumPy에서 배열은 여러 차원으로 존재할 수 있습니다. **차원**(dimension)은 배열 안에 **데이터가 조직된 방식**을 의미합니다. 배열은 **스칼라, 벡터, 행렬**로 확장되며, 차원 수에 따라 구분됩니다.\n",
    "\n",
    "#### 1. **0차원 배열 (스칼라)**:\n",
    "- **스칼라**는 **단일 값**으로, 차원이 없습니다. 즉, 배열에 하나의 값만 들어가 있는 상태입니다.\n",
    "- 예시:\n",
    "  ```python\n",
    "  x = np.array(5)\n",
    "  ```\n",
    "  여기서 `x`는 0차원 배열입니다. **스칼라 값**만 가집니다.\n",
    "  ```python\n",
    "  x.shape  # 출력: ()\n",
    "  ```\n",
    "\n",
    "#### 2. **1차원 배열 (벡터)**:\n",
    "- **1차원 배열**은 **한 줄로 나열된 값들**을 가지며, **벡터**로 표현됩니다.\n",
    "- 예시:\n",
    "  ```python\n",
    "  x = np.array([25, 2, -3, -23])\n",
    "  ```\n",
    "  여기서 `x`는 **1차원 배열(벡터)**입니다. 차원은 `(4,)`로 나타납니다. 이는 **4개의 요소**를 가진 **1차원 배열**이라는 뜻입니다.\n",
    "  ```python\n",
    "  x.shape  # 출력: (4,)\n",
    "  ```\n",
    "\n",
    "#### 3. **2차원 배열 (행렬)**:\n",
    "- **2차원 배열**은 **행과 열로 구성된 배열**로, 일반적으로 **행렬**로 표현됩니다.\n",
    "- 예시:\n",
    "  ```python\n",
    "  x = np.array([[25, 2, -3, -23]])  # 1행 4열\n",
    "  ```\n",
    "  여기서 `x`는 **2차원 배열**입니다. 이 배열은 **1행 4열**로 구성된 **2차원 배열**이며, 차원은 `(1, 4)`로 나타납니다.\n",
    "  ```python\n",
    "  x.shape  # 출력: (1, 4)\n",
    "  ```\n",
    "\n",
    "#### 4. **3차원 배열 (텐서)**:\n",
    "- **3차원 배열**은 여러 **행렬이 쌓인** 형태로 생각할 수 있습니다. 이것은 **텐서**라고 부르며, 여러 차원을 가집니다.\n",
    "- 예시:\n",
    "  ```python\n",
    "  x = np.array([[[25, 2, -3, -23], [10, 5, 7, 1]]])  # 1x2x4 배열\n",
    "  ```\n",
    "  여기서 `x`는 **3차원 배열**로, **1개의 배열**에 **2개의 행**과 **4개의 열**을 포함하고 있습니다.\n",
    "  ```python\n",
    "  x.shape  # 출력: (1, 2, 4)\n",
    "  ```\n",
    "\n",
    "### 배열의 전치(Transpose)\n",
    "**전치(transpose)**는 배열의 **행과 열을 바꾸는 작업**입니다. 전치는 **2차원 배열**이나 **고차원 배열**에서 의미가 있습니다.\n",
    "\n",
    "#### 1차원 배열(벡터)의 전치:\n",
    "- **1차원 배열**은 **전치**해도 **모양이 변하지 않습니다**. 왜냐하면, **행과 열의 개념이 없기 때문**입니다.\n",
    "  ```python\n",
    "  x = np.array([25, 2, -3, -23])\n",
    "  x.T  # 결과는 동일한 1차원 배열: [25, 2, -3, -23]\n",
    "  ```\n",
    "\n",
    "#### 2차원 배열의 전치:\n",
    "- **2차원 배열(행렬)**에서 전치를 하면 **행과 열이 바뀝니다**.\n",
    "  ```python\n",
    "  x = np.array([[25, 2, -3, -23]])  # 1행 4열 배열\n",
    "  x_transposed = x.T  # 4행 1열 배열\n",
    "  ```\n",
    "  - 전치 후 결과:\n",
    "    ```\n",
    "    [[ 25]\n",
    "     [  2]\n",
    "     [ -3]\n",
    "     [-23]]\n",
    "    ```\n",
    "\n",
    "### 요약:\n",
    "- **차원 구분**: 배열이 몇 차원인지 확인하려면 **`x.shape`**를 사용하여 배열의 차원을 확인할 수 있습니다.\n",
    "  - **0차원**: 스칼라, `(,)`\n",
    "  - **1차원**: 벡터, `(n,)`\n",
    "  - **2차원**: 행렬, `(m, n)`\n",
    "  - **3차원 이상**: 텐서, `(l, m, n)`\n",
    "- **벡터의 전치**는 **1차원 배열**에서는 의미가 없지만, **2차원 배열(행렬)**에서 전치는 **행과 열을 교환**합니다.\n",
    "\n",
    "이 설명이 배열의 차원과 전치에 대한 이해를 돕길 바랍니다! 추가적인 질문이 있으면 언제든지 말씀해 주세요."
   ]
  },
  {
   "cell_type": "code",
   "execution_count": 24,
   "metadata": {},
   "outputs": [
    {
     "data": {
      "text/plain": [
       "(array([[ 25],\n",
       "        [  2],\n",
       "        [ -3],\n",
       "        [-23]]),\n",
       " array([[ 25,   2,  -3, -23]]))"
      ]
     },
     "execution_count": 24,
     "metadata": {},
     "output_type": "execute_result"
    }
   ],
   "source": [
    "# 문제 1번 전치하시오\n",
    "tensor = np.array([[25], [2], [-3], [-23]])\n",
    "tensor, tensor.T"
   ]
  },
  {
   "cell_type": "code",
   "execution_count": 26,
   "metadata": {},
   "outputs": [
    {
     "data": {
      "text/plain": [
       "(2, 4)"
      ]
     },
     "execution_count": 26,
     "metadata": {},
     "output_type": "execute_result"
    }
   ],
   "source": [
    "# 행렬의 차원을 구하라\n",
    "y = np.array([[42, 4, 7, 99], [-99, -3, 17, 22]])\n",
    "y.shape"
   ]
  },
  {
   "cell_type": "code",
   "execution_count": 29,
   "metadata": {},
   "outputs": [
    {
     "data": {
      "text/plain": [
       "array([[-99,  -3,  17,  22]])"
      ]
     },
     "execution_count": 29,
     "metadata": {},
     "output_type": "execute_result"
    }
   ],
   "source": [
    "# y에서 요소 17을 인덱싱하라\n",
    "y[1: 2, 2: 3]\n",
    "\n",
    "# 넘파이의 인덱싱은 열에 대한 정보를 지정하지 않으면 행의 전체열이 반환된다. \n",
    "# 따라서 요소 17만을 인덱시하려면 행과 열 모두를 지정해야 한다."
   ]
  }
 ],
 "metadata": {
  "kernelspec": {
   "display_name": "Python 3",
   "language": "python",
   "name": "python3"
  },
  "language_info": {
   "codemirror_mode": {
    "name": "ipython",
    "version": 3
   },
   "file_extension": ".py",
   "mimetype": "text/x-python",
   "name": "python",
   "nbconvert_exporter": "python",
   "pygments_lexer": "ipython3",
   "version": "3.9.9"
  }
 },
 "nbformat": 4,
 "nbformat_minor": 2
}
