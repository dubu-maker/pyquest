{
 "cells": [
  {
   "cell_type": "code",
   "execution_count": 3,
   "metadata": {},
   "outputs": [
    {
     "name": "stdout",
     "output_type": "stream",
     "text": [
      "[1, 2, 3, 4, 5, 6, 7, 8, 9, 10]\n"
     ]
    }
   ],
   "source": [
    "# del list  # 기존에 선언한 list 변수를 삭제\n",
    "my_list = list(range(1, 11))  # 'list' 대신 'my_list'와 같은 다른 변수명 사용\n",
    "print(my_list)  # 출력: [1, 2, 3, 4, 5, 6, 7, 8, 9, 10]"
   ]
  },
  {
   "cell_type": "code",
   "execution_count": null,
   "metadata": {},
   "outputs": [],
   "source": [
    "# 1부터 10까지의 숫자 중에서 홀수만 포함하는 리스트를 리스트 컴프리헨션을 사용하여 생성하세요"
   ]
  },
  {
   "cell_type": "code",
   "execution_count": 5,
   "metadata": {},
   "outputs": [
    {
     "name": "stdout",
     "output_type": "stream",
     "text": [
      "[1, 3, 5, 7, 9]\n"
     ]
    }
   ],
   "source": [
    "my_list = list(range(1, 11))  # 'list' 대신 'my_list'와 같은 다른 변수명 사용\n",
    "odd_list = []\n",
    "\n",
    "for n in my_list:\n",
    "    if n % 2 !=0:\n",
    "        odd_list.append(n)\n",
    "print(odd_list)"
   ]
  },
  {
   "cell_type": "code",
   "execution_count": 9,
   "metadata": {},
   "outputs": [
    {
     "name": "stdout",
     "output_type": "stream",
     "text": [
      "[1, 3, 5, 7, 9]\n"
     ]
    }
   ],
   "source": [
    "# [expression for item in iterable if condition]\n",
    "odd_list = [n for n in my_list if n %2 !=0]\n",
    "print(odd_list)"
   ]
  },
  {
   "cell_type": "code",
   "execution_count": null,
   "metadata": {},
   "outputs": [],
   "source": [
    "# 다음 리스트 numbers = [1, 2, 3, 4, 5]에서 각 숫자를 제곱한 값들을 가지는 새로운 리스트를 리스트 컴프리헨션을 사용하여 생성하세요."
   ]
  },
  {
   "cell_type": "code",
   "execution_count": 26,
   "metadata": {},
   "outputs": [
    {
     "name": "stdout",
     "output_type": "stream",
     "text": [
      "[1, 4, 9, 16, 25]\n"
     ]
    }
   ],
   "source": [
    "numbers = list(range(1,6))\n",
    "new_list = []\n",
    "\n",
    "for n in numbers:\n",
    "    new_list.append(n ** 2)  # 각 n의 제곱을 new_list에 추가\n",
    "print(new_list)  # 출력: [1, 4, 9, 16, 25]"
   ]
  },
  {
   "cell_type": "code",
   "execution_count": 25,
   "metadata": {},
   "outputs": [
    {
     "name": "stdout",
     "output_type": "stream",
     "text": [
      "[1, 4, 9, 16, 25]\n"
     ]
    }
   ],
   "source": [
    "numbers = [1 ,2, 3, 4, 5]\n",
    "\n",
    "new_list = [n ** 2 for n in numbers]\n",
    "print(new_list)"
   ]
  },
  {
   "cell_type": "markdown",
   "metadata": {},
   "source": [
    "# list comprehension에서 for문은 꼭 필요하다."
   ]
  },
  {
   "cell_type": "code",
   "execution_count": null,
   "metadata": {},
   "outputs": [],
   "source": [
    "# 주어진 리스트 words = [\"hello\", \"world\", \"python\", \"is\", \"fun\"]에서 문자열의 길이가 4 이하인 문자열만 포함하는 리스트를 리스트 컴프리헨션을 사용하여 생성하세요."
   ]
  },
  {
   "cell_type": "code",
   "execution_count": 15,
   "metadata": {},
   "outputs": [
    {
     "name": "stdout",
     "output_type": "stream",
     "text": [
      "['hello', 'world', 'python']\n"
     ]
    }
   ],
   "source": [
    "words = [\"hello\", \"world\", \"python\", \"is\", \"fun\"]\n",
    "new_words = []\n",
    "\n",
    "for n in words:\n",
    "    if len(n) > 4:\n",
    "        new_words.append(n)\n",
    "\n",
    "print(new_words)  # 출력: ['is', 'fun']"
   ]
  },
  {
   "cell_type": "code",
   "execution_count": 18,
   "metadata": {},
   "outputs": [
    {
     "name": "stdout",
     "output_type": "stream",
     "text": [
      "['hello', 'world', 'python']\n"
     ]
    }
   ],
   "source": [
    "words = [\"hello\", \"world\", \"python\", \"is\", \"fun\"]\n",
    "\n",
    "new_words = [n for n in words if len(n) > 4]\n",
    "print(new_words)"
   ]
  },
  {
   "cell_type": "code",
   "execution_count": null,
   "metadata": {},
   "outputs": [],
   "source": [
    "# 1부터 20까지의 숫자 중에서 3의 배수인 숫자만 포함하는 리스트를 리스트 컴프리헨션을 사용하여 생성하세요."
   ]
  },
  {
   "cell_type": "code",
   "execution_count": 21,
   "metadata": {},
   "outputs": [
    {
     "name": "stdout",
     "output_type": "stream",
     "text": [
      "[3, 6, 9, 12, 15, 18]\n"
     ]
    }
   ],
   "source": [
    "numbers = list(range(1,21))\n",
    "new_list = []\n",
    "\n",
    "for n in numbers:\n",
    "    if n % 3 == 0:\n",
    "        new_list.append(n)\n",
    "print(new_list)"
   ]
  },
  {
   "cell_type": "code",
   "execution_count": 24,
   "metadata": {},
   "outputs": [
    {
     "name": "stdout",
     "output_type": "stream",
     "text": [
      "[3, 6, 9, 12, 15, 18]\n"
     ]
    }
   ],
   "source": [
    "new_lists = [n for n in numbers if n % 3 == 0]\n",
    "print(new_lists)"
   ]
  },
  {
   "cell_type": "code",
   "execution_count": 30,
   "metadata": {},
   "outputs": [
    {
     "name": "stdout",
     "output_type": "stream",
     "text": [
      "[1, 4, 27, 16, 125, 36, 343, 64, 729, 100]\n"
     ]
    }
   ],
   "source": [
    "numbers = [1, 2, 3, 4, 5, 6, 7, 8, 9, 10]\n",
    "\n",
    "new_numbers = []\n",
    "\n",
    "for n in numbers:\n",
    "    if n % 2 == 0:\n",
    "        new_numbers.append(n ** 2)  # 짝수라면 제곱하여 리스트에 추가\n",
    "    else:\n",
    "        new_numbers.append(n ** 3)  # 홀수라면 세 제곱하여 리스트에 추가\n",
    "\n",
    "print(new_numbers)  # 출력: [1, 4, 27, 16, 125, 36, 343, 64, 729, 100]"
   ]
  },
  {
   "cell_type": "code",
   "execution_count": null,
   "metadata": {},
   "outputs": [],
   "source": [
    "# new_dict = {new_key:new_value for item in list}"
   ]
  },
  {
   "cell_type": "code",
   "execution_count": null,
   "metadata": {},
   "outputs": [],
   "source": [
    "# new_dict = {new_key:new_value for (key, value) in dict.items}"
   ]
  },
  {
   "cell_type": "code",
   "execution_count": null,
   "metadata": {},
   "outputs": [],
   "source": [
    "# new_dict = {new_key:new_value for (key, value) in dict.items if test}"
   ]
  },
  {
   "cell_type": "code",
   "execution_count": null,
   "metadata": {},
   "outputs": [],
   "source": [
    "numbers = [1, 2, 3, 4, 5]\n",
    "\n",
    "squared_dict = {}  # 빈 딕셔너리 생성\n",
    "\n",
    "for n in numbers:\n",
    "    squared_dict[n] = n ** 2  # 각 n을 키로 하고, n의 제곱을 값으로 설정\n",
    "\n",
    "squared_dict = {n: n ** 2 for n in numbers}\n",
    "\n",
    "print(squared_dict)  # 출력: {1: 1, 2: 4, 3: 9, 4: 16, 5: 25}"
   ]
  },
  {
   "cell_type": "code",
   "execution_count": 8,
   "metadata": {},
   "outputs": [
    {
     "name": "stdout",
     "output_type": "stream",
     "text": [
      "{'apple': 5, 'banana': 6, 'cherry': 6}\n"
     ]
    }
   ],
   "source": [
    "# 주어진 리스트 words = [\"apple\", \"banana\", \"cherry\"]가 있을 때, 각 단어를 키로 하고 그 단어의 길이를 값으로 가지는 딕셔너리를 딕셔너리 컴프리헨션을 사용하여 생성하세요.\n",
    "words = [\"apple\", \"banana\", \"cherry\"]\n",
    "\n",
    "new_dict = {}\n",
    "\n",
    "for n in words:\n",
    "    new_dict[n] = len(n)\n",
    "\n",
    "new_dict = {n: len(n) for n in words}\n",
    "\n",
    "print(new_dict)"
   ]
  },
  {
   "cell_type": "code",
   "execution_count": 9,
   "metadata": {},
   "outputs": [
    {
     "name": "stdout",
     "output_type": "stream",
     "text": [
      "{'b': 2, 'd': 4}\n"
     ]
    }
   ],
   "source": [
    "# 주어진 딕셔너리 original_dict = {'a': 1, 'b': 2, 'c': 3, 'd': 4}에서 값이 짝수인 항목만 포함하는 새로운 딕셔너리를 딕셔너리 컴프리헨션을 사용하여 생성하세요.\n",
    "original_dict = {'a': 1, 'b': 2, 'c': 3, 'd': 4}\n",
    "\n",
    "new_dict = {k: v for k, v in original_dict.items() if v % 2 == 0}\n",
    "\n",
    "print(new_dict)  # 출력: {'b': 2, 'd': 4}"
   ]
  },
  {
   "cell_type": "code",
   "execution_count": 10,
   "metadata": {},
   "outputs": [
    {
     "name": "stdout",
     "output_type": "stream",
     "text": [
      "{'b': 2, 'd': 4}\n"
     ]
    }
   ],
   "source": [
    "original_dict = {'a': 1, 'b': 2, 'c': 3, 'd': 4}\n",
    "\n",
    "new_dict = {}  # 새로운 빈 딕셔너리 생성\n",
    "\n",
    "for k, v in original_dict.items():  # 원래 딕셔너리의 모든 키-값 쌍을 순회\n",
    "    if v % 2 == 0:  # 값이 짝수인지 확인\n",
    "        new_dict[k] = v  # 짝수인 경우, 새로운 딕셔너리에 추가\n",
    "\n",
    "print(new_dict)  # 출력: {'b': 2, 'd': 4}"
   ]
  },
  {
   "cell_type": "code",
   "execution_count": null,
   "metadata": {},
   "outputs": [],
   "source": [
    "# 주어진 리스트 words = [\"hello\", \"world\", \"python\", \"is\", \"awesome\"]가 있습니다. 이 리스트에서 각 단어를 키로 하고, 그 단어에 포함된 모음의 개수를 값으로 가지는 딕셔너리를 딕셔너리 컴프리헨션을 사용하여 생성하세요.\n",
    "words = [\"hello\", \"world\", \"python\", \"is\", \"awesome\"]\n",
    "vowels = \"aeiou\"  # 모음 리스트를 문자열로 정의\n",
    "\n",
    "vowel_count_dict = {}  # 결과를 저장할 빈 딕셔너리 생성\n",
    "\n",
    "for word in words:  # 각 단어를 순회\n",
    "    count = 0  # 모음 개수를 세기 위한 초기값 설정\n",
    "    for char in word:  # 단어의 각 문자를 순회\n",
    "        if char in vowels:  # 문자가 모음인지 확인\n",
    "            count += 1  # 모음인 경우 카운트 증가\n",
    "    vowel_count_dict[word] = count  # 단어를 키로, 모음 개수를 값으로 딕셔너리에 추가\n",
    "\n",
    "print(vowel_count_dict)  # 출력: {'hello': 2, 'world': 1, 'python': 1, 'is': 1, 'awesome': 4}"
   ]
  },
  {
   "cell_type": "code",
   "execution_count": null,
   "metadata": {},
   "outputs": [],
   "source": [
    "vowel_count_dict = {word: sum(1 for char in word if char in vowels) for word in words}"
   ]
  },
  {
   "cell_type": "code",
   "execution_count": null,
   "metadata": {},
   "outputs": [],
   "source": [
    "# tkinter"
   ]
  },
  {
   "cell_type": "code",
   "execution_count": 3,
   "metadata": {},
   "outputs": [],
   "source": [
    "import tkinter\n",
    "\n",
    "window = tkinter.Tk()\n",
    "window.title(\"My first GUI Program\")\n",
    "window.minsize(width=500, height=300)\n",
    "\n",
    "# label\n",
    "my_label = tkinter.Label(text=\"I am a Label\", font=(\"Arial\", 24, \"bold\"))\n",
    "my_label.pack(side=\"left\")\n",
    "\n",
    "window.mainloop()"
   ]
  },
  {
   "cell_type": "code",
   "execution_count": null,
   "metadata": {},
   "outputs": [],
   "source": [
    "# *args / 가변 위치 인수"
   ]
  },
  {
   "cell_type": "code",
   "execution_count": 5,
   "metadata": {},
   "outputs": [
    {
     "name": "stdout",
     "output_type": "stream",
     "text": [
      "25\n"
     ]
    }
   ],
   "source": [
    "def add(*args):\n",
    "    sum = 0\n",
    "    for n in args:\n",
    "        sum += n\n",
    "    return sum\n",
    "\n",
    "print(add(1,3 ,5 ,7, 9))"
   ]
  },
  {
   "cell_type": "code",
   "execution_count": 6,
   "metadata": {},
   "outputs": [
    {
     "name": "stdout",
     "output_type": "stream",
     "text": [
      "Positional arguments: (1, 2, 3)\n",
      "Keyword arguments: {'name': 'Alice', 'age': 30}\n"
     ]
    }
   ],
   "source": [
    "def example_function(*args, **kwargs):\n",
    "    print(\"Positional arguments:\", args)\n",
    "    print(\"Keyword arguments:\", kwargs)\n",
    "\n",
    "example_function(1, 2, 3, name=\"Alice\", age=30)"
   ]
  },
  {
   "cell_type": "code",
   "execution_count": 18,
   "metadata": {},
   "outputs": [
    {
     "name": "stdout",
     "output_type": "stream",
     "text": [
      "18\n"
     ]
    }
   ],
   "source": [
    "def calculate(n, **kwagrs):\n",
    "    n += kwagrs[\"add\"]\n",
    "    n += kwagrs[\"multiply\"]\n",
    "\n",
    "    print(n)\n",
    "\n",
    "calculate(3, add=5, multiply=10)"
   ]
  },
  {
   "cell_type": "code",
   "execution_count": 21,
   "metadata": {},
   "outputs": [
    {
     "name": "stdout",
     "output_type": "stream",
     "text": [
      "Nissan\n",
      "GT-R\n"
     ]
    }
   ],
   "source": [
    "class Car:\n",
    "    def __init__(self, **kw):\n",
    "        self.make = kw[\"make\"]\n",
    "        self.model = kw[\"model\"] # 딕셔너리에서 값을 가져오는 []\n",
    "\n",
    "my_car = Car(make='Nissan', model='GT-R')\n",
    "\n",
    "print(my_car.make)\n",
    "print(my_car.model)"
   ]
  },
  {
   "cell_type": "code",
   "execution_count": 27,
   "metadata": {},
   "outputs": [
    {
     "name": "stdout",
     "output_type": "stream",
     "text": [
      "Nissan\n"
     ]
    }
   ],
   "source": [
    "class Car:\n",
    "    def __init__(self, **kw):\n",
    "        self.make = kw.get(\"make\") # get은 특정 키에 해당하는 값을 가져올 때 사용된다.\n",
    "        self.model = kw.get(\"model\")\n",
    "\n",
    "my_car = Car(make='Nissan')\n",
    "print(my_car.make)"
   ]
  },
  {
   "cell_type": "code",
   "execution_count": 28,
   "metadata": {},
   "outputs": [
    {
     "name": "stdout",
     "output_type": "stream",
     "text": [
      "KeyError: 'c' not found in dictionary\n",
      "None\n",
      "0\n"
     ]
    }
   ],
   "source": [
    "my_dict = {'a': 1, 'b': 2}\n",
    "\n",
    "# [] 연산자 사용\n",
    "# 존재하지 않는 키를 찾을 경우 오류 발생\n",
    "try:\n",
    "    value = my_dict['c']\n",
    "except KeyError:\n",
    "    print(\"KeyError: 'c' not found in dictionary\")\n",
    "\n",
    "# .get() 메서드 사용\n",
    "value = my_dict.get('c')\n",
    "print(value)  # 출력: None\n",
    "\n",
    "# .get() 메서드 사용 + 기본값 제공\n",
    "value = my_dict.get('c', 0)\n",
    "print(value)  # 출력: 0"
   ]
  },
  {
   "cell_type": "code",
   "execution_count": null,
   "metadata": {},
   "outputs": [],
   "source": [
    "# tkinter"
   ]
  },
  {
   "cell_type": "code",
   "execution_count": 2,
   "metadata": {},
   "outputs": [],
   "source": [
    "import tkinter\n",
    "from tkinter import *\n",
    "\n",
    "window = tkinter.Tk()\n",
    "window.title(\"My first Gui Program\")\n",
    "window.minsize(width=500, height=300)\n",
    "\n",
    "# Label\n",
    "my_label = tkinter.Label(text=\"I am a Label\", font=(\"Arial\", 24, \"bold\"))\n",
    "my_label.pack()\n",
    "\n",
    "\n",
    "# Label 수정\n",
    "my_label[\"text\"] = \"New Text\"\n",
    "my_label.config(text=\"My Text\")\n",
    "\n",
    "# button\n",
    "def button_clicked():\n",
    "    my_label.config(text=\"I got CLICKed\")\n",
    "\n",
    "\n",
    "button = Button(text=\"Click\", command=button_clicked)\n",
    "button.pack()\n",
    "\n",
    "# Entry 입력\n",
    "input = Entry(width=25)\n",
    "input.pack()\n",
    "input.get()\n",
    "\n",
    "window.mainloop()"
   ]
  },
  {
   "cell_type": "code",
   "execution_count": 4,
   "metadata": {},
   "outputs": [
    {
     "name": "stdout",
     "output_type": "stream",
     "text": [
      "I got CLICKed\n"
     ]
    }
   ],
   "source": [
    "import tkinter\n",
    "from tkinter import *\n",
    "\n",
    "window = tkinter.Tk()\n",
    "window.title(\"My first Gui Program\")\n",
    "window.minsize(width=500, height=300)\n",
    "\n",
    "# Label\n",
    "my_label = tkinter.Label(text=\"I am a Label\", font=(\"Arial\", 24, \"bold\"))\n",
    "my_label.pack()\n",
    "\n",
    "\n",
    "# Label 수정\n",
    "my_label[\"text\"] = \"New Text\"\n",
    "my_label.config(text=\"My Text\")\n",
    "\n",
    "# button\n",
    "def button_clicked():\n",
    "    print(\"I got CLICKed\")\n",
    "    new_text = input.get ()\n",
    "    my_label.config(text=new_text)\n",
    "\n",
    "\n",
    "button = Button(text=\"Click\", command=button_clicked)\n",
    "button.pack()\n",
    "\n",
    "# Entry 입력 \n",
    "input = Entry(width=25)\n",
    "input.pack()\n",
    "input.get()\n",
    "\n",
    "window.mainloop()"
   ]
  }
 ],
 "metadata": {
  "kernelspec": {
   "display_name": "Python 3",
   "language": "python",
   "name": "python3"
  },
  "language_info": {
   "codemirror_mode": {
    "name": "ipython",
    "version": 3
   },
   "file_extension": ".py",
   "mimetype": "text/x-python",
   "name": "python",
   "nbconvert_exporter": "python",
   "pygments_lexer": "ipython3",
   "version": "3.12.5"
  }
 },
 "nbformat": 4,
 "nbformat_minor": 2
}
