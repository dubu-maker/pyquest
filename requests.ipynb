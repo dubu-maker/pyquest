{
 "cells": [
  {
   "cell_type": "markdown",
   "metadata": {},
   "source": [
    "`requests`는 파이썬에서 HTTP 요청을 보내기 위해 자주 사용하는 라이브러리입니다. 이 라이브러리는 `GET`, `POST`, `PUT`, `DELETE` 등의 HTTP 메서드를 간단하게 사용할 수 있도록 해줍니다. 각 메서드의 기본적인 용도와 사용법은 다음과 같습니다:\n",
    "\n",
    "### 1. `GET` 요청\n",
    "- **용도**: 서버에서 리소스를 가져오기 위해 사용됩니다. 예를 들어, 웹 페이지나 API에서 데이터를 가져오는 데 사용됩니다.\n",
    "\n",
    "    response = requests.get('https://example.com/api/resource')\n",
    "    print(response.status_code)  # 상태 코드 출력 (200, 404 등)\n",
    "    print(response.json())       # JSON 형식의 응답 데이터를 출력\n",
    "\n",
    "### 2. `POST` 요청\n",
    "- **용도**: 서버에 데이터를 전송하기 위해 사용됩니다. 일반적으로 새로운 리소스를 생성하거나 폼 데이터를 제출할 때 사용됩니다.\n",
    "\n",
    "    data = {'key1': 'value1', 'key2': 'value2'}\n",
    "    response = requests.post('https://example.com/api/resource', data=data)\n",
    "    print(response.status_code)  # 상태 코드 출력\n",
    "    print(response.json())       # JSON 형식의 응답 데이터를 출력\n",
    "\n",
    "### 3. `PUT` 요청\n",
    "- **용도**: 서버에 있는 기존 리소스를 업데이트하기 위해 사용됩니다. 지정된 리소스를 완전히 대체하거나 일부를 수정하는 데 사용됩니다.\n",
    "\n",
    "    data = {'key1': 'new_value1', 'key2': 'new_value2'}\n",
    "    response = requests.put('https://example.com/api/resource/1', data=data)\n",
    "    print(response.status_code)  # 상태 코드 출력\n",
    "    print(response.json())       # JSON 형식의 응답 데이터를 출력\n",
    "\n",
    "### 4. `DELETE` 요청\n",
    "- **용도**: 서버에서 리소스를 삭제하기 위해 사용됩니다. 예를 들어, 데이터베이스의 항목을 삭제하는 데 사용됩니다.\n",
    "\n",
    "    response = requests.delete('https://example.com/api/resource/1')\n",
    "    print(response.status_code)  # 상태 코드 출력\n",
    "\n",
    "### 공통 사항\n",
    "- **`response.status_code`**: 요청이 성공적으로 완료되었는지를 나타내는 HTTP 상태 코드입니다. 예를 들어, 200은 성공, 404는 리소스를 찾을 수 없음, 500은 서버 오류를 의미합니다.\n",
    "- **`response.json()`**: 응답이 JSON 형식일 경우, 이를 파이썬의 딕셔너리 형태로 변환해줍니다. `response.text`는 응답 본문을 그대로 문자열로 반환합니다.\n",
    "\n",
    "이 네 가지 메서드는 HTTP 프로토콜을 사용해 다양한 작업을 수행할 수 있게 해줍니다. 실시간으로 서버와 상호작용하는 웹 애플리케이션을 개발할 때 매우 유용합니다."
   ]
  },
  {
   "cell_type": "code",
   "execution_count": 4,
   "metadata": {},
   "outputs": [
    {
     "name": "stdout",
     "output_type": "stream",
     "text": [
      "User creation response: {\"message\":\"Success. Let's visit https://pixe.la/@igotdudu , it is your profile page!\",\"isSuccess\":true}\n",
      "Graph creation response: {\"message\":\"Success.\",\"isSuccess\":true}\n",
      "Pixel creation response: {\"message\":\"Success.\",\"isSuccess\":true}\n"
     ]
    }
   ],
   "source": [
    "import requests\n",
    "import secrets\n",
    "\n",
    "# 새로운 사용자 이름과 복잡한 토큰 생성\n",
    "USERNAME = \"igotdudu\"\n",
    "TOKEN = \"wp2F8nBOOwdKnSlemku4JVgp0y8SUXcjWh3PPivnc0E\"  # 복잡한 토큰 생성\n",
    "\n",
    "pixela_endpoint = \"https://pixe.la/v1/users\"\n",
    "\n",
    "# 사용자 생성 파라미터\n",
    "user_params = {\n",
    "    \"token\": TOKEN,\n",
    "    \"username\": USERNAME,\n",
    "    \"agreeTermsOfService\": \"yes\",\n",
    "    \"notMinor\": \"yes\"\n",
    "}\n",
    "\n",
    "# 사용자 생성 요청\n",
    "response = requests.post(url=pixela_endpoint, json=user_params)\n",
    "print(f\"User creation response: {response.text}\")\n",
    "\n",
    "# 사용자 생성이 성공한 경우에만 그래프 생성 작업 및 데이터 추가 작업을 진행\n",
    "if response.json().get(\"isSuccess\"):\n",
    "    # 그래프 생성 엔드포인트 설정\n",
    "    graph_endpoint = f\"{pixela_endpoint}/{USERNAME}/graphs\"\n",
    "\n",
    "    # 그래프 생성 파라미터\n",
    "    graph_config = {\n",
    "        \"id\": \"graph1\",\n",
    "        \"name\": \"Cycling Graph\",\n",
    "        \"unit\": \"Km\",\n",
    "        \"type\": \"float\",\n",
    "        \"color\": \"ajisai\"\n",
    "    }\n",
    "\n",
    "    # 헤더 설정 (생성된 TOKEN 사용)\n",
    "    headers = {\n",
    "        \"X-USER-TOKEN\": TOKEN\n",
    "    }\n",
    "\n",
    "    # 그래프 생성 요청\n",
    "    graph_response = requests.post(url=graph_endpoint, json=graph_config, headers=headers)\n",
    "    print(f\"Graph creation response: {graph_response.text}\")\n",
    "\n",
    "    # 그래프 생성이 성공한 경우에만 데이터 추가 작업을 진행\n",
    "    if graph_response.json().get(\"isSuccess\"):\n",
    "        # 그래프 업데이트를 위한 엔드포인트 설정\n",
    "        pixel_creation_endpoint = f\"{pixela_endpoint}/{USERNAME}/graphs/graph1\"\n",
    "\n",
    "        # 업데이트할 데이터 설정\n",
    "        pixel_data = {\n",
    "            \"date\": \"20240821\",  # 날짜 형식에 맞게 설정\n",
    "            \"quantity\": \"10\"\n",
    "        }\n",
    "\n",
    "        # 데이터 추가 요청\n",
    "        pixel_response = requests.post(url=pixel_creation_endpoint, json=pixel_data, headers=headers)\n",
    "        print(f\"Pixel creation response: {pixel_response.text}\")\n",
    "    else:\n",
    "        print(\"Graph creation failed.\")\n",
    "else:\n",
    "    print(\"User creation failed.\")"
   ]
  },
  {
   "cell_type": "code",
   "execution_count": null,
   "metadata": {},
   "outputs": [],
   "source": [
    "# https://pixe.la/v1/users/igotdudu/graphs/graph1.html"
   ]
  },
  {
   "cell_type": "code",
   "execution_count": 3,
   "metadata": {},
   "outputs": [
    {
     "name": "stdout",
     "output_type": "stream",
     "text": [
      "{\"message\":\"Success.\",\"isSuccess\":true}\n"
     ]
    }
   ],
   "source": [
    "import requests\n",
    "from datetime import datetime\n",
    "\n",
    "# 기존에 생성된 사용자와 토큰 정보\n",
    "USERNAME = \"igotdudu\"\n",
    "TOKEN = \"wp2F8nBOOwdKnSlemku4JVgp0y8SUXcjWh3PPivnc0E\"  # 이전에 생성된 토큰을 입력하세요.\n",
    "\n",
    "# Pixela API 엔드포인트\n",
    "pixela_endpoint = \"https://pixe.la/v1/users\"\n",
    "\n",
    "# 그래프 업데이트를 위한 엔드포인트 설정\n",
    "pixel_creation_endpoint = f\"{pixela_endpoint}/{USERNAME}/graphs/graph1\"\n",
    "\n",
    "# 오늘 날짜 가져오기\n",
    "today = datetime.now()\n",
    "\n",
    "# 업데이트할 데이터 설정 (오늘의 데이터)\n",
    "pixel_data = {\n",
    "    \"date\": today.strftime(\"%Y%m%d\"),  # 오늘의 날짜 (YYYYMMDD 형식)\n",
    "    \"quantity\": \"15\"  # 추가할 데이터 값 (예: 15km)\n",
    "}\n",
    "\n",
    "# 헤더 설정 (기존의 TOKEN 사용)\n",
    "headers = {\n",
    "    \"X-USER-TOKEN\": TOKEN\n",
    "}\n",
    "\n",
    "# 데이터 추가 요청\n",
    "response = requests.post(url=pixel_creation_endpoint, json=pixel_data, headers=headers)\n",
    "print(response.text)  # 결과 출력"
   ]
  },
  {
   "cell_type": "code",
   "execution_count": null,
   "metadata": {},
   "outputs": [],
   "source": []
  }
 ],
 "metadata": {
  "kernelspec": {
   "display_name": "Python 3",
   "language": "python",
   "name": "python3"
  },
  "language_info": {
   "codemirror_mode": {
    "name": "ipython",
    "version": 3
   },
   "file_extension": ".py",
   "mimetype": "text/x-python",
   "name": "python",
   "nbconvert_exporter": "python",
   "pygments_lexer": "ipython3",
   "version": "3.9.9"
  }
 },
 "nbformat": 4,
 "nbformat_minor": 2
}
