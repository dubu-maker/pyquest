{
 "cells": [
  {
   "cell_type": "code",
   "execution_count": 3,
   "metadata": {},
   "outputs": [],
   "source": [
    "# 크롬 드라이버 다운로드\n",
    "import requests\n",
    "\n",
    "# CfT JSON endpoint for the latest ChromeDriver version\n",
    "response = requests.get('https://googlechromelabs.github.io/chrome-for-testing/LATEST_RELEASE_STABLE')\n",
    "\n",
    "latest_version = response.text.strip()\n",
    "\n",
    "# Download the corresponding ChromeDriver\n",
    "driver_url = f'https://edgedl.me.gvt1.com/edgedl/chrome/chrome-for-testing/{latest_version}/win64/chromedriver-win64.zip'\n",
    "driver_response = requests.get(driver_url)\n",
    "\n",
    "with open('chromedriver.zip', 'wb') as file:\n",
    "    file.write(driver_response.content)"
   ]
  },
  {
   "cell_type": "code",
   "execution_count": null,
   "metadata": {},
   "outputs": [],
   "source": [
    "from selenium import webdriver\n",
    "from selenium.webdriver.common.by import By\n",
    "\n",
    "chrome_options = webdriver.ChromeOptions()\n",
    "chrome_options.add_experimental_option(\"detach\", True)\n",
    "\n",
    "driver = webdriver.Chrome(options=chrome_options)\n",
    "driver.get('https://www.amazon.com/SAMSUNG-Android-Included-Expandable-Exclusive/dp/B0CWS8MNW1?ref=dlx_deals_dg_dcl_B0CWS8MNW1_dt_sl14_f0&th=1')\n",
    "\n",
    "price_dollor = driver.find_element(By.CLASS_NAME, 'a-price-whole')\n",
    "price_cents = driver.find_element(By.CLASS_NAME, 'a-price-fraction')\n",
    "\n",
    "print(f'The price is ${price_dollor.text}.{price_cents.text}')\n",
    "\n",
    "driver.quit()"
   ]
  },
  {
   "cell_type": "code",
   "execution_count": 11,
   "metadata": {},
   "outputs": [
    {
     "name": "stdout",
     "output_type": "stream",
     "text": [
      "Price not found\n"
     ]
    }
   ],
   "source": [
    "import requests\n",
    "from bs4 import BeautifulSoup\n",
    "\n",
    "url = 'https://www.amazon.com/SAMSUNG-Android-Included-Expandable-Exclusive/dp/B0CWS8MNW1?ref=dlx_deals_dg_dcl_B0CWS8MNW1_dt_sl14_f0&th=1'\n",
    "\n",
    "headers = {\n",
    "    \"User-Agent\": \"Mozilla/5.0 (Windows NT 10.0; Win64; x64) AppleWebKit/537.36 (KHTML, like Gecko) Chrome/58.0.3029.110 Safari/537.3\"}\n",
    "\n",
    "response = requests.get(url, headers=headers)\n",
    "soup = BeautifulSoup(response.content, 'html.parser')\n",
    "\n",
    "price_dollor = soup.find('span', {'class': 'a-price-whole'})\n",
    "price_cents = soup.find('span', {'class': 'a-price-fraction'})\n",
    "\n",
    "if price_dollor and price_cents:\n",
    "    print(f'The price is ${price_dollor.text}.{price_cents.text}')\n",
    "else:\n",
    "    print(\"Price not found\")"
   ]
  },
  {
   "cell_type": "code",
   "execution_count": 17,
   "metadata": {},
   "outputs": [
    {
     "name": "stdout",
     "output_type": "stream",
     "text": [
      "Price not found\n"
     ]
    }
   ],
   "source": [
    "import requests\n",
    "from bs4 import BeautifulSoup\n",
    "\n",
    "# 대상 URL\n",
    "url = 'https://www.amazon.com/SAMSUNG-Android-Included-Expandable-Exclusive/dp/B0CWS8MNW1?ref=dlx_deals_dg_dcl_B0CWS8MNW1_dt_sl14_f0&th=1'\n",
    "\n",
    "# 헤더 설정\n",
    "headers = {\n",
    "    \"User-Agent\": \"Mozilla/5.0 (Windows NT 10.0; Win64; x64) AppleWebKit/537.36 (KHTML, like Gecko) Chrome/58.0.3029.110 Safari/537.3\"\n",
    "}\n",
    "\n",
    "# 웹페이지 요청 및 파싱\n",
    "response = requests.get(url, headers=headers)\n",
    "soup = BeautifulSoup(response.content, 'html.parser')\n",
    "\n",
    "# 텍스트를 포함한 해당 span 요소를 선택\n",
    "price_section = soup.find('span', {'class': 'aok-offscreen'})\n",
    "\n",
    "# 결과 출력\n",
    "if price_section:\n",
    "    print(price_section.text.strip())\n",
    "else:\n",
    "    print(\"Price not found\")"
   ]
  },
  {
   "cell_type": "code",
   "execution_count": 16,
   "metadata": {},
   "outputs": [
    {
     "name": "stdout",
     "output_type": "stream",
     "text": [
      "Price not found\n"
     ]
    }
   ],
   "source": [
    "import requests\n",
    "from bs4 import BeautifulSoup\n",
    "\n",
    "# 대상 URL\n",
    "url = 'https://www.amazon.com/Amazon-Basics-Density-Exercise-Recovery/dp/B071P2MQ5D/?_encoding=UTF8&pd_rd_w=xTVUZ&content-id=amzn1.sym.9929d3ab-edb7-4ef5-a232-26d90f828fa5&pf_rd_p=9929d3ab-edb7-4ef5-a232-26d90f828fa5&pf_rd_r=38EXPYES5WSSQYR87B00&pd_rd_wg=cO8tP&pd_rd_r=58759d22-71fa-49d3-ba53-f525a7dfc5e0&ref_=pd_hp_d_btf_crs_zg_bs_3375251&th=1'\n",
    "\n",
    "# 헤더 설정\n",
    "headers = {\n",
    "    \"User-Agent\": \"Mozilla/5.0 (Windows NT 10.0; Win64; x64) AppleWebKit/537.36 (KHTML, like Gecko) Chrome/58.0.3029.110 Safari/537.3\"\n",
    "}\n",
    "\n",
    "response = requests.get(url, headers=headers)\n",
    "soup = BeautifulSoup(response.content, 'html.parser')\n",
    "\n",
    "price_section = soup.find('span', {'class': 'aok-offscreen'})\n",
    "\n",
    "if price_section:\n",
    "    print(price_section.text.strip())\n",
    "else:\n",
    "    print(\"Price not found\")\n"
   ]
  },
  {
   "cell_type": "code",
   "execution_count": null,
   "metadata": {},
   "outputs": [],
   "source": [
    "# response.text 유니클로 문자열로, 디코딩한 것. 텍스트 기반에 유용하다\n",
    "# response.content는 바이트로, 이미지나 파일 다운로드에 유용하다"
   ]
  },
  {
   "cell_type": "code",
   "execution_count": 18,
   "metadata": {},
   "outputs": [],
   "source": [
    "# 헤더 변경\n",
    "headers = {\n",
    "    \"User-Agent\": \"Mozilla/5.0 (Windows NT 10.0; Win64; x64) AppleWebKit/537.36 (KHTML, like Gecko) Chrome/91.0.4472.124 Safari/537.36\",\n",
    "    \"Accept-Language\": \"en-US,en;q=0.9\",\n",
    "    \"Accept-Encoding\": \"gzip, deflate, br\",\n",
    "    \"Accept\": \"text/html,application/xhtml+xml,application/xml;q=0.9,image/webp,*/*;q=0.8\",\n",
    "    \"Connection\": \"keep-alive\"\n",
    "}\n",
    "\n",
    "response = requests.get(url, headers=headers)"
   ]
  },
  {
   "cell_type": "code",
   "execution_count": 1,
   "metadata": {},
   "outputs": [
    {
     "name": "stdout",
     "output_type": "stream",
     "text": [
      "The price is $12.99\n"
     ]
    }
   ],
   "source": [
    "from selenium import webdriver\n",
    "from selenium.webdriver.common.by import By\n",
    "\n",
    "chrome_options = webdriver.ChromeOptions()\n",
    "chrome_options.add_experimental_option(\"detach\", True)\n",
    "\n",
    "driver = webdriver.Chrome(options=chrome_options)\n",
    "driver.get('https://www.amazon.com/Amazon-Basics-Density-Exercise-Recovery/dp/B071P2MQ5D/?_encoding=UTF8&pd_rd_w=xTVUZ&content-id=amzn1.sym.9929d3ab-edb7-4ef5-a232-26d90f828fa5&pf_rd_p=9929d3ab-edb7-4ef5-a232-26d90f828fa5&pf_rd_r=38EXPYES5WSSQYR87B00&pd_rd_wg=cO8tP&pd_rd_r=58759d22-71fa-49d3-ba53-f525a7dfc5e0&ref_=pd_hp_d_btf_crs_zg_bs_3375251&th=1')\n",
    "\n",
    "price_dollor = driver.find_element(By.CLASS_NAME, 'a-price-whole')\n",
    "price_cents = driver.find_element(By.CLASS_NAME, 'a-price-fraction')\n",
    "\n",
    "print(f'The price is ${price_dollor.text}.{price_cents.text}')\n",
    "\n",
    "driver.quit()"
   ]
  },
  {
   "cell_type": "code",
   "execution_count": 3,
   "metadata": {},
   "outputs": [
    {
     "name": "stdout",
     "output_type": "stream",
     "text": [
      "Search\n"
     ]
    }
   ],
   "source": [
    "driver = webdriver.Chrome(options=chrome_options)\n",
    "driver.get('https://www.python.org/')\n",
    "\n",
    "search_bar = driver.find_element(By.NAME, 'q')\n",
    "print(search_bar.get_attribute('placeholder'))"
   ]
  },
  {
   "cell_type": "code",
   "execution_count": 7,
   "metadata": {},
   "outputs": [
    {
     "name": "stdout",
     "output_type": "stream",
     "text": [
      "{'height': 40, 'width': 46}\n"
     ]
    }
   ],
   "source": [
    "driver = webdriver.Chrome(options=chrome_options)\n",
    "driver.get('https://www.python.org/')\n",
    "\n",
    "button = driver.find_element(By.ID, value=\"submit\")\n",
    "print(button.size)"
   ]
  },
  {
   "cell_type": "code",
   "execution_count": 11,
   "metadata": {},
   "outputs": [
    {
     "name": "stdout",
     "output_type": "stream",
     "text": [
      "docs.python.org\n"
     ]
    }
   ],
   "source": [
    "driver = webdriver.Chrome(options=chrome_options)\n",
    "driver.get('https://www.python.org/')\n",
    "\n",
    "documention_link = driver.find_element(By.CSS_SELECTOR, value=\".documentation-widget a\")\n",
    "print(documention_link.text)"
   ]
  },
  {
   "cell_type": "code",
   "execution_count": 13,
   "metadata": {},
   "outputs": [
    {
     "name": "stdout",
     "output_type": "stream",
     "text": [
      "Submit Website Bug\n"
     ]
    }
   ],
   "source": [
    "# XPath\n",
    "driver = webdriver.Chrome(options=chrome_options)\n",
    "driver.get('https://www.python.org/')\n",
    "\n",
    "bug_link = driver.find_element(By.XPATH, value='//*[@id=\"site-map\"]/div[2]/div/ul/li[3]/a')\n",
    "print(bug_link.text) "
   ]
  },
  {
   "cell_type": "code",
   "execution_count": 14,
   "metadata": {},
   "outputs": [
    {
     "name": "stdout",
     "output_type": "stream",
     "text": [
      "https://cdn.pgr21.com/pb/data/humor/1724552687_%EC%9B%94%EA%B8%89%EC%9D%B4%EC%B2%9C%EC%9D%B4%EB%B0%B1.jpg\n"
     ]
    }
   ],
   "source": [
    "# 이미지 가져오기\n",
    "driver = webdriver.Chrome(options=chrome_options)\n",
    "driver.get('https://www.pgr21.com/humor/504502')\n",
    "\n",
    "image_element = driver.find_element(By.XPATH, '//*[@id=\"mainRight\"]/div/table[1]/tbody/tr[6]/td/span/img')\n",
    "print(image_element.get_attribute('src'))"
   ]
  },
  {
   "cell_type": "code",
   "execution_count": null,
   "metadata": {},
   "outputs": [],
   "source": [
    "# 숨겨진 이미지 선택 (예: display: none;으로 숨겨진 이미지)\n",
    "hidden_image = driver.find_element(By.XPATH, '//img[@style=\"display: none;\"]')\n",
    "print(hidden_image.get_attribute('src'))"
   ]
  },
  {
   "cell_type": "code",
   "execution_count": null,
   "metadata": {},
   "outputs": [],
   "source": [
    "# 동영상 가져오기"
   ]
  },
  {
   "cell_type": "code",
   "execution_count": 19,
   "metadata": {},
   "outputs": [
    {
     "name": "stdout",
     "output_type": "stream",
     "text": [
      "https://streamable.com/o/8siq4m\n"
     ]
    }
   ],
   "source": [
    "driver = webdriver.Chrome(options=chrome_options)\n",
    "driver.get('https://www.pgr21.com/humor/504493')\n",
    "\n",
    "image_element = driver.find_element(By.XPATH, '//*[@id=\"mainRight\"]/div/table[1]/tbody/tr[5]/td/span/div[1]/iframe[1]')\n",
    "print(image_element.get_attribute('src'))"
   ]
  },
  {
   "cell_type": "code",
   "execution_count": 23,
   "metadata": {},
   "outputs": [
    {
     "name": "stdout",
     "output_type": "stream",
     "text": [
      "https://streamable.com/o/8siq4m\n"
     ]
    }
   ],
   "source": [
    "from selenium import webdriver\n",
    "from selenium.webdriver.common.by import By\n",
    "\n",
    "chrome_options = webdriver.ChromeOptions()\n",
    "\n",
    "# 드라이버 실행 및 페이지 로드\n",
    "driver = webdriver.Chrome(options=chrome_options)\n",
    "driver.get('https://www.pgr21.com/humor/504493')\n",
    "\n",
    "# iframe 요소를 찾습니다\n",
    "iframe_element = driver.find_element(By.XPATH, '//iframe[@class=\"streamable-embed\"]')\n",
    "\n",
    "# iframe의 src 속성을 직접 가져옵니다\n",
    "video_url = iframe_element.get_attribute('src')\n",
    "print(video_url)\n",
    "\n",
    "# 원래의 컨텍스트로 돌아가기 위해 기본 콘텐츠로 전환합니다\n",
    "driver.switch_to.default_content()\n"
   ]
  },
  {
   "cell_type": "code",
   "execution_count": 24,
   "metadata": {},
   "outputs": [
    {
     "name": "stdout",
     "output_type": "stream",
     "text": [
      "https://streamable.com/o/8siq4m\n",
      "https://streamable.com/o/94dtkx\n"
     ]
    }
   ],
   "source": [
    "from selenium import webdriver\n",
    "from selenium.webdriver.common.by import By\n",
    "\n",
    "chrome_options = webdriver.ChromeOptions()\n",
    "\n",
    "# 드라이버 실행 및 페이지 로드\n",
    "driver = webdriver.Chrome(options=chrome_options)\n",
    "driver.get('https://www.pgr21.com/humor/504493')\n",
    "\n",
    "# 모든 iframe 요소를 찾습니다 (여러 개 있을 수 있으므로 find_elements 사용)\n",
    "iframe_elements = driver.find_elements(By.XPATH, '//iframe[@class=\"streamable-embed\"]')\n",
    "\n",
    "# 각 iframe의 src 속성을 가져와 출력합니다\n",
    "for iframe in iframe_elements:\n",
    "    video_url = iframe.get_attribute('src')\n",
    "    print(video_url)\n",
    "\n",
    "# 원래의 컨텍스트로 돌아가기 위해 기본 콘텐츠로 전환합니다\n",
    "driver.switch_to.default_content()"
   ]
  },
  {
   "cell_type": "code",
   "execution_count": null,
   "metadata": {},
   "outputs": [],
   "source": [
    "# 다운로드 까지\n",
    "from selenium import webdriver\n",
    "from selenium.webdriver.common.by import By\n",
    "import requests\n",
    "\n",
    "chrome_options = webdriver.ChromeOptions()\n",
    "\n",
    "# 드라이버 실행 및 페이지 로드\n",
    "driver = webdriver.Chrome(options=chrome_options)\n",
    "driver.get('https://www.pgr21.com/humor/504493')\n",
    "\n",
    "# 모든 iframe 요소를 찾습니다\n",
    "iframe_elements = driver.find_elements(By.XPATH, '//iframe[@class=\"streamable-embed\"]')\n",
    "\n",
    "# 각 iframe의 src 속성을 가져와 리스트에 추가합니다\n",
    "video_urls = []\n",
    "for iframe in iframe_elements:\n",
    "    video_url = iframe.get_attribute('src')\n",
    "    video_urls.append(video_url)\n",
    "    print(video_url)\n",
    "\n",
    "# Selenium 드라이버를 종료합니다\n",
    "driver.quit()\n",
    "\n",
    "# 비디오 다운로드 함수 정의\n",
    "def download_video(video_url, save_path):\n",
    "    response = requests.get(video_url, stream=True)\n",
    "    with open(save_path, 'wb') as file:\n",
    "        for chunk in response.iter_content(chunk_size=1024):\n",
    "            if chunk:\n",
    "                file.write(chunk)\n",
    "\n",
    "# Streamable 비디오를 다운로드합니다\n",
    "for idx, video_url in enumerate(video_urls):\n",
    "    save_path = f\"streamable_video_{idx+1}.mp4\"\n",
    "    download_video(video_url, save_path)\n",
    "    print(f\"Downloaded: {save_path}\")"
   ]
  },
  {
   "cell_type": "code",
   "execution_count": 25,
   "metadata": {},
   "outputs": [
    {
     "name": "stdout",
     "output_type": "stream",
     "text": [
      "https://simg.donga.com/ugc/MLBPARK/Board/17/24/55/48/17245548880960.jpg\n"
     ]
    }
   ],
   "source": [
    "# 이미지 가져오기\n",
    "driver = webdriver.Chrome(options=chrome_options)\n",
    "driver.get('https://mlbpark.donga.com/mp/b.php?p=1&b=bullpen&id=202408250096613512&select=&query=&subselect=&subquery=&user=&site=donga.com&reply=&source=&pos=&sig=h6jTHl-AkhjRKfX2hfj9RY-A6hlq')\n",
    "\n",
    "image_element = driver.find_element(By.XPATH, '//*[@id=\"contentDetail\"]/img')\n",
    "print(image_element.get_attribute('src'))"
   ]
  },
  {
   "cell_type": "code",
   "execution_count": 27,
   "metadata": {},
   "outputs": [
    {
     "name": "stdout",
     "output_type": "stream",
     "text": [
      "Image downloaded successfully.\n"
     ]
    }
   ],
   "source": [
    "# 리퍼러 설정\n",
    "import requests\n",
    "\n",
    "headers = {\n",
    "    'Referer': 'https://mlbpark.donga.com/',  # 올바른 리퍼러 설정\n",
    "}\n",
    "\n",
    "image_url = \"https://simg.donga.com/ugc/MLBPARK/Board/17/24/55/48/17245548880960.jpg\"\n",
    "response = requests.get(image_url, headers=headers)\n",
    "\n",
    "if response.status_code == 200:\n",
    "    with open('downloaded_image.jpg', 'wb') as file:\n",
    "        file.write(response.content)\n",
    "    print(\"Image downloaded successfully.\")\n",
    "else:\n",
    "    print(\"Failed to download image.\")"
   ]
  },
  {
   "cell_type": "code",
   "execution_count": 3,
   "metadata": {},
   "outputs": [
    {
     "name": "stdout",
     "output_type": "stream",
     "text": [
      "2024-08-26 - PyHEP.dev 2024\n",
      "2024-08-26 - EuroSciPy 2024\n",
      "2024-08-28 - Python New Zealand, Online Group, Presentation and Code-along-at-home\n",
      "2024-08-29 - PyCon PL 2024\n",
      "2024-09-02 - PyBodensee Monthly Meetup\n"
     ]
    }
   ],
   "source": [
    "from selenium import webdriver\n",
    "from selenium.webdriver.common.by import By\n",
    "\n",
    "chrome_options = webdriver.ChromeOptions()\n",
    "\n",
    "driver = webdriver.Chrome(options=chrome_options)\n",
    "driver.get('https://www.python.org/')\n",
    "\n",
    "event_time = driver.find_elements(By.CSS_SELECTOR, '.event-widget time')\n",
    "event_name = driver.find_elements(By.CSS_SELECTOR, '.event-widget li a')\n",
    "\n",
    "for n in range(len(event_time)):\n",
    "    print(f\"{event_time[n].text} - {event_name[n].text}\")\n",
    "    \n",
    "# \n",
    "events = {}\n",
    "\n",
    "for n in range(len(event_time)):\n",
    "    events[n] = {\n",
    "        \"time\": event_time[n].text,\n",
    "        \"name\": event_name[n].text \n",
    "    }\n",
    "print(events)\n",
    "    "
   ]
  },
  {
   "cell_type": "code",
   "execution_count": 4,
   "metadata": {},
   "outputs": [
    {
     "name": "stdout",
     "output_type": "stream",
     "text": [
      "6,872,607\n"
     ]
    }
   ],
   "source": [
    "from selenium import webdriver\n",
    "from selenium.webdriver.common.by import By\n",
    "\n",
    "chrome_options = webdriver.ChromeOptions()\n",
    "chrome_options.add_experimental_option(\"detach\", True) # 오류가 발생하거나 프로그램이 종료되면 브라우저가 닫히지 않고 남아있게 함\n",
    "\n",
    "driver = webdriver.Chrome(options=chrome_options)\n",
    "\n",
    "driver.get('https://en.wikipedia.org/wiki/main_page')\n",
    "\n",
    "article_count = driver.find_element(By.CSS_SELECTOR, '#articlecount a')\n",
    "#article_count = driver.find_element(By.XPATH, '//*[@id=\"articlecount\"]/a[1]')\n",
    "print(article_count.text)\n",
    "\n",
    "article_count.click()"
   ]
  },
  {
   "cell_type": "code",
   "execution_count": 6,
   "metadata": {},
   "outputs": [
    {
     "name": "stdout",
     "output_type": "stream",
     "text": [
      "Wikipedia\n"
     ]
    }
   ],
   "source": [
    "from selenium import webdriver\n",
    "from selenium.webdriver.common.by import By\n",
    "\n",
    "chrome_options = webdriver.ChromeOptions()\n",
    "driver = webdriver.Chrome(options=chrome_options)\n",
    "\n",
    "driver.get('https://en.wikipedia.org/wiki/main_page')\n",
    "\n",
    "all_portals = driver.find_element(By.LINK_TEXT, 'Wikipedia')\n",
    "print(all_portals.text)\n",
    "all_portals.click()"
   ]
  },
  {
   "cell_type": "code",
   "execution_count": 1,
   "metadata": {},
   "outputs": [],
   "source": [
    "from selenium import webdriver\n",
    "from selenium.webdriver.common.by import By\n",
    "\n",
    "chrome_options = webdriver.ChromeOptions()\n",
    "driver = webdriver.Chrome(options=chrome_options)\n",
    "\n",
    "# 브라우저 창 최대화\n",
    "driver.maximize_window()\n",
    "\n",
    "driver.get('https://en.wikipedia.org/wiki/main_page')\n",
    "\n",
    "search_bar = driver.find_element(By.NAME, 'search')\n",
    "search_bar.send_keys('Python')"
   ]
  },
  {
   "cell_type": "code",
   "execution_count": null,
   "metadata": {},
   "outputs": [],
   "source": [
    "from selenium import webdriver\n",
    "from selenium.webdriver.common.by import By\n",
    "\n",
    "chrome_options = webdriver.ChromeOptions()\n",
    "# 헤드리스 모드 설정\n",
    "chrome_options.add_argument(\"--headless\")\n",
    "chrome_options.add_argument(\"--disable-gpu\")  # GPU 비활성화 (필요한 경우)\n",
    "chrome_options.add_argument(\"--no-sandbox\")  # 일부 시스템에서 필요한 설정\n",
    "chrome_options.add_argument(\"--disable-dev-shm-usage\")  # 리소스 부족 문제 해결\n",
    "\n",
    "driver = webdriver.Chrome(options=chrome_options)\n",
    "\n",
    "driver.get('https://en.wikipedia.org/wiki/main_page')\n",
    "\n",
    "search_bar = driver.find_element(By.NAME, 'search')\n",
    "search_bar.send_keys('Python')\n",
    "\n",
    "print(\"Search input sent successfully.\")"
   ]
  },
  {
   "cell_type": "code",
   "execution_count": 2,
   "metadata": {},
   "outputs": [],
   "source": [
    "from selenium import webdriver\n",
    "from selenium.webdriver.common.keys import Keys \n",
    "\n",
    "chrome_options = webdriver.ChromeOptions()\n",
    "driver = webdriver.Chrome(options=chrome_options)\n",
    "\n",
    "# 브라우저 창 최대화\n",
    "driver.maximize_window()\n",
    "\n",
    "driver.get('https://en.wikipedia.org/wiki/main_page')\n",
    "\n",
    "search_bar = driver.find_element(By.NAME, 'search')\n",
    "search_bar.send_keys('Python')\n",
    "search_bar.send_keys(Keys.RETURN)"
   ]
  },
  {
   "cell_type": "code",
   "execution_count": 10,
   "metadata": {},
   "outputs": [],
   "source": [
    "import time\n",
    "from selenium import webdriver\n",
    "from selenium.webdriver.common.keys import Keys\n",
    "from selenium.webdriver.common.by import By  # By를 사용하기 위해 임포트\n",
    "\n",
    "chrome_options = webdriver.ChromeOptions()\n",
    "driver = webdriver.Chrome(options=chrome_options)\n",
    "\n",
    "# 브라우저 창 최대화\n",
    "driver.maximize_window()\n",
    "\n",
    "# 네이버 사이트 접속\n",
    "driver.get('https://www.naver.com/')\n",
    "\n",
    "# 로그인 페이지로 이동\n",
    "login_bar = driver.find_element(By.XPATH, '//*[@id=\"account\"]/div/a')\n",
    "login_bar.click()\n",
    "\n",
    "# 잠시 대기 (페이지 로드 및 요소 렌더링 시간을 고려)\n",
    "time.sleep(2)\n",
    "\n",
    "# ID 입력\n",
    "login_id = driver.find_element(By.NAME, 'id')\n",
    "login_id.click()\n",
    "login_id.send_keys('m2ine')\n",
    "\n",
    "# 시간차 추가\n",
    "time.sleep(1)\n",
    "\n",
    "# 비밀번호 입력\n",
    "login_pw = driver.find_element(By.NAME, 'pw')\n",
    "login_pw.click()\n",
    "login_pw.send_keys('Enci978@')\n",
    "\n",
    "# 시간차 추가\n",
    "time.sleep(1)\n",
    "\n",
    "# 로그인 버튼 클릭\n",
    "login_pw.send_keys(Keys.RETURN)\n",
    "\n",
    "# 추가 인증 페이지 대비를 위한 대기\n",
    "time.sleep(2)\n"
   ]
  },
  {
   "cell_type": "code",
   "execution_count": null,
   "metadata": {},
   "outputs": [],
   "source": [
    "# 셀레늄의 명령어는 브라우저의 요소를 찾을 때까지 기다린다\n",
    "from selenium.webdriver.support.ui import WebDriverWait\n",
    "from selenium.webdriver.support import expected_conditions as EC\n",
    "\n",
    "# Explicit Wait 사용 예시\n",
    "login_id = WebDriverWait(driver, 10).until(\n",
    "    EC.presence_of_element_located((By.NAME, 'id'))\n",
    ")\n",
    "login_id.click()\n",
    "login_id.send_keys('m2ine')"
   ]
  },
  {
   "cell_type": "code",
   "execution_count": 12,
   "metadata": {},
   "outputs": [],
   "source": [
    "# 유저 에이전트 변경\n",
    "from selenium import webdriver\n",
    "from selenium.webdriver.common.by import By\n",
    "from selenium.webdriver.common.keys import Keys\n",
    "\n",
    "chrome_options = webdriver.ChromeOptions()\n",
    "\n",
    "# User-Agent를 일반 브라우저와 동일하게 설정\n",
    "chrome_options.add_argument(\"user-agent=Mozilla/5.0 (Windows NT 10.0; Win64; x64) AppleWebKit/537.36 (KHTML, like Gecko) Chrome/85.0.4183.83 Safari/537.36\")\n",
    "\n",
    "driver = webdriver.Chrome(options=chrome_options)\n",
    "driver.maximize_window()\n",
    "\n",
    "driver.get('https://www.naver.com/')\n",
    "\n",
    "login_bar = driver.find_element(By.XPATH, '//*[@id=\"account\"]/div/a')\n",
    "login_bar.click()\n",
    "\n",
    "login_id = driver.find_element(By.NAME, 'id')\n",
    "login_id.click()\n",
    "login_id.send_keys('m2ine')\n",
    "login_id.send_keys(Keys.RETURN)\n",
    "\n",
    "login_pw = driver.find_element(By.NAME, 'pw')\n",
    "login_pw.click()\n",
    "login_pw.send_keys('enci9782')\n",
    "login_pw.send_keys(Keys.RETURN)"
   ]
  },
  {
   "cell_type": "code",
   "execution_count": null,
   "metadata": {},
   "outputs": [],
   "source": [
    "# 세션 쿠기로 로그인\n",
    "import time\n",
    "from selenium import webdriver\n",
    "from selenium.webdriver.common.by import By\n",
    "from selenium.webdriver.common.keys import Keys\n",
    "import pickle\n",
    "\n",
    "chrome_options = webdriver.ChromeOptions()\n",
    "\n",
    "# 기존에 로그인했던 세션 쿠키를 불러오기\n",
    "driver = webdriver.Chrome(options=chrome_options)\n",
    "driver.get('https://www.naver.com/')\n",
    "\n",
    "# 쿠키를 로드\n",
    "for cookie in pickle.load(open(\"cookies.pkl\", \"rb\")):\n",
    "    driver.add_cookie(cookie)\n",
    "\n",
    "# 페이지 새로고침하여 쿠키 적용\n",
    "driver.refresh()\n",
    "\n",
    "# 이후 로그인 페이지로 가지 않고 바로 로그인 상태로 유지됩니다."
   ]
  },
  {
   "cell_type": "code",
   "execution_count": null,
   "metadata": {},
   "outputs": [],
   "source": [
    "# 팝업 차단"
   ]
  },
  {
   "cell_type": "code",
   "execution_count": null,
   "metadata": {},
   "outputs": [],
   "source": [
    "# 기존 브라우저 프로필 사용\n",
    "from selenium import webdriver\n",
    "\n",
    "options = webdriver.ChromeOptions()\n",
    "options.add_argument(\"user-data-dir=/path/to/your/chrome/profile\")  # 사용자 프로필 경로 지정\n",
    "\n",
    "driver = webdriver.Chrome(options=options)\n",
    "driver.get('https://example.com')\n"
   ]
  },
  {
   "cell_type": "code",
   "execution_count": 1,
   "metadata": {},
   "outputs": [],
   "source": [
    "# 셀레늄에서 크롬 옵션 직접 설정\n",
    "from selenium import webdriver\n",
    "\n",
    "options = webdriver.ChromeOptions()\n",
    "prefs = {\n",
    "    \"profile.default_content_setting_values.notifications\": 2,  # 팝업 차단\n",
    "    \"profile.default_content_setting_values.popups\": 2\n",
    "}\n",
    "options.add_experimental_option(\"prefs\", prefs)\n",
    "\n",
    "driver = webdriver.Chrome(options=options)\n",
    "driver.get('https://google.com')"
   ]
  },
  {
   "cell_type": "code",
   "execution_count": null,
   "metadata": {},
   "outputs": [],
   "source": [
    "# 확장 프로그램을 통한 팝업 차단\n",
    "from selenium import webdriver\n",
    "\n",
    "options = webdriver.ChromeOptions()\n",
    "options.add_extension('/path/to/adblock_extension.crx')  # 확장 프로그램 경로 지정\n",
    "\n",
    "driver = webdriver.Chrome(options=options)\n",
    "driver.get('https://example.com')"
   ]
  },
  {
   "cell_type": "markdown",
   "metadata": {},
   "source": [
    "네, 셀레늄에서 `ChromeOptions`를 통해 크롬 브라우저의 다양한 설정을 지정할 수 있습니다. `prefs` 딕셔너리에 여러 가지 설정을 추가하여 브라우저 동작을 커스터마이즈할 수 있습니다. 팝업 외에도 여러 가지 옵션을 설정할 수 있으며, 몇 가지 예시는 다음과 같습니다.\n",
    "\n",
    "### 1. **파일 다운로드 위치 설정**\n",
    "   기본 다운로드 위치를 지정할 수 있습니다.\n",
    "\n",
    "```python\n",
    "prefs = {\n",
    "    \"download.default_directory\": \"/path/to/download/directory\",  # 다운로드 디렉토리 지정\n",
    "    \"download.prompt_for_download\": False,  # 다운로드 전에 확인 창을 표시하지 않음\n",
    "    \"download.directory_upgrade\": True,  # 다운로드 디렉토리를 업그레이드된 형태로 유지\n",
    "}\n",
    "options.add_experimental_option(\"prefs\", prefs)\n",
    "```\n",
    "\n",
    "### 2. **헤드리스 모드**\n",
    "   브라우저 UI 없이 백그라운드에서 실행되도록 설정할 수 있습니다.\n",
    "\n",
    "```python\n",
    "options = webdriver.ChromeOptions()\n",
    "options.add_argument(\"--headless\")  # 브라우저 UI 없이 실행\n",
    "options.add_argument(\"--disable-gpu\")  # 헤드리스 모드에서 GPU 비활성화\n",
    "options.add_argument(\"--window-size=1920,1080\")  # 가상 화면 크기 설정\n",
    "```\n",
    "\n",
    "### 3. **쿠키 허용/차단**\n",
    "   사이트에서 쿠키를 허용하거나 차단하는 설정을 추가할 수 있습니다.\n",
    "\n",
    "```python\n",
    "prefs = {\n",
    "    \"profile.default_content_setting_values.cookies\": 2,  # 쿠키 차단 (0: 허용, 1: 비정상 쿠키 차단, 2: 전체 차단)\n",
    "}\n",
    "options.add_experimental_option(\"prefs\", prefs)\n",
    "```\n",
    "\n",
    "### 4. **자바스크립트 허용/차단**\n",
    "   웹 페이지의 자바스크립트를 허용하거나 차단할 수 있습니다.\n",
    "\n",
    "```python\n",
    "prefs = {\n",
    "    \"profile.default_content_setting_values.javascript\": 2,  # 자바스크립트 차단 (1: 허용, 2: 차단)\n",
    "}\n",
    "options.add_experimental_option(\"prefs\", prefs)\n",
    "```\n",
    "\n",
    "### 5. **이미지 로드 비활성화**\n",
    "   페이지 로딩 속도를 높이기 위해 이미지를 로드하지 않도록 설정할 수 있습니다.\n",
    "\n",
    "```python\n",
    "prefs = {\n",
    "    \"profile.managed_default_content_settings.images\": 2,  # 이미지 로드 비활성화 (1: 활성화, 2: 비활성화)\n",
    "}\n",
    "options.add_experimental_option(\"prefs\", prefs)\n",
    "```\n",
    "\n",
    "### 6. **암호 자동 저장 비활성화**\n",
    "   암호 자동 저장 팝업을 비활성화할 수 있습니다.\n",
    "\n",
    "```python\n",
    "prefs = {\n",
    "    \"credentials_enable_service\": False,  # 크롬의 암호 저장 기능 비활성화\n",
    "    \"profile.password_manager_enabled\": False  # 비밀번호 관리자 비활성화\n",
    "}\n",
    "options.add_experimental_option(\"prefs\", prefs)\n",
    "```\n",
    "\n",
    "### 7. **추가적인 HTTP 헤더 설정**\n",
    "   사용자 에이전트(User-Agent)나 기타 HTTP 헤더를 설정할 수 있습니다.\n",
    "\n",
    "```python\n",
    "options = webdriver.ChromeOptions()\n",
    "options.add_argument(\"user-agent=MyCustomUserAgent/1.0\")\n",
    "```\n",
    "\n",
    "이와 같은 방식으로 `prefs`와 `add_argument`를 이용해 크롬 브라우저의 다양한 기능을 제어할 수 있습니다. 각 설정은 특정 환경에 따라 필요에 맞게 조정할 수 있습니다"
   ]
  }
 ],
 "metadata": {
  "kernelspec": {
   "display_name": "Python 3",
   "language": "python",
   "name": "python3"
  },
  "language_info": {
   "codemirror_mode": {
    "name": "ipython",
    "version": 3
   },
   "file_extension": ".py",
   "mimetype": "text/x-python",
   "name": "python",
   "nbconvert_exporter": "python",
   "pygments_lexer": "ipython3",
   "version": "3.9.9"
  }
 },
 "nbformat": 4,
 "nbformat_minor": 2
}
